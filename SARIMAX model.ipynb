{
 "cells": [
  {
   "cell_type": "code",
   "execution_count": 94,
   "id": "ff5f9e8a",
   "metadata": {},
   "outputs": [],
   "source": [
    "import matplotlib.pyplot as plt\n",
    "import seaborn as sns\n",
    "from sklearn.model_selection import train_test_split\n",
    "from sklearn.metrics import mean_squared_error, mean_absolute_error, r2_score\n",
    "from statsmodels.tsa.statespace.sarimax import SARIMAX\n",
    "from tqdm import tqdm_notebook\n",
    "import numpy as np\n",
    "import pandas as pd\n",
    "\n",
    "from statsmodels.tsa.holtwinters import ExponentialSmoothing\n",
    "from statsmodels.tsa.stattools import adfuller\n",
    "import warnings\n",
    "warnings.filterwarnings('ignore')"
   ]
  },
  {
   "cell_type": "markdown",
   "id": "6ba728e1",
   "metadata": {},
   "source": [
    "# Loading Data"
   ]
  },
  {
   "cell_type": "code",
   "execution_count": 117,
   "id": "11bc2ecf",
   "metadata": {},
   "outputs": [],
   "source": [
    "amd = pd.read_csv('Data/AMD (1980-2023).csv')"
   ]
  },
  {
   "cell_type": "code",
   "execution_count": 118,
   "id": "5f2dad6c",
   "metadata": {},
   "outputs": [
    {
     "data": {
      "text/html": [
       "<div>\n",
       "<style scoped>\n",
       "    .dataframe tbody tr th:only-of-type {\n",
       "        vertical-align: middle;\n",
       "    }\n",
       "\n",
       "    .dataframe tbody tr th {\n",
       "        vertical-align: top;\n",
       "    }\n",
       "\n",
       "    .dataframe thead th {\n",
       "        text-align: right;\n",
       "    }\n",
       "</style>\n",
       "<table border=\"1\" class=\"dataframe\">\n",
       "  <thead>\n",
       "    <tr style=\"text-align: right;\">\n",
       "      <th></th>\n",
       "      <th>Date</th>\n",
       "      <th>Open</th>\n",
       "      <th>High</th>\n",
       "      <th>Low</th>\n",
       "      <th>Close</th>\n",
       "      <th>Adj Close</th>\n",
       "      <th>Volume</th>\n",
       "    </tr>\n",
       "  </thead>\n",
       "  <tbody>\n",
       "    <tr>\n",
       "      <th>0</th>\n",
       "      <td>1980-03-18</td>\n",
       "      <td>0.000000</td>\n",
       "      <td>3.125000</td>\n",
       "      <td>2.937500</td>\n",
       "      <td>3.031250</td>\n",
       "      <td>3.031250</td>\n",
       "      <td>727200</td>\n",
       "    </tr>\n",
       "    <tr>\n",
       "      <th>1</th>\n",
       "      <td>1980-03-19</td>\n",
       "      <td>0.000000</td>\n",
       "      <td>3.083333</td>\n",
       "      <td>3.020833</td>\n",
       "      <td>3.041667</td>\n",
       "      <td>3.041667</td>\n",
       "      <td>295200</td>\n",
       "    </tr>\n",
       "    <tr>\n",
       "      <th>2</th>\n",
       "      <td>1980-03-20</td>\n",
       "      <td>0.000000</td>\n",
       "      <td>3.062500</td>\n",
       "      <td>3.010417</td>\n",
       "      <td>3.010417</td>\n",
       "      <td>3.010417</td>\n",
       "      <td>159600</td>\n",
       "    </tr>\n",
       "    <tr>\n",
       "      <th>3</th>\n",
       "      <td>1980-03-21</td>\n",
       "      <td>0.000000</td>\n",
       "      <td>3.020833</td>\n",
       "      <td>2.906250</td>\n",
       "      <td>2.916667</td>\n",
       "      <td>2.916667</td>\n",
       "      <td>130800</td>\n",
       "    </tr>\n",
       "    <tr>\n",
       "      <th>4</th>\n",
       "      <td>1980-03-24</td>\n",
       "      <td>0.000000</td>\n",
       "      <td>2.916667</td>\n",
       "      <td>2.635417</td>\n",
       "      <td>2.666667</td>\n",
       "      <td>2.666667</td>\n",
       "      <td>436800</td>\n",
       "    </tr>\n",
       "    <tr>\n",
       "      <th>...</th>\n",
       "      <td>...</td>\n",
       "      <td>...</td>\n",
       "      <td>...</td>\n",
       "      <td>...</td>\n",
       "      <td>...</td>\n",
       "      <td>...</td>\n",
       "      <td>...</td>\n",
       "    </tr>\n",
       "    <tr>\n",
       "      <th>10854</th>\n",
       "      <td>2023-04-05</td>\n",
       "      <td>94.349998</td>\n",
       "      <td>94.500000</td>\n",
       "      <td>91.360001</td>\n",
       "      <td>92.559998</td>\n",
       "      <td>92.559998</td>\n",
       "      <td>52979300</td>\n",
       "    </tr>\n",
       "    <tr>\n",
       "      <th>10855</th>\n",
       "      <td>2023-04-06</td>\n",
       "      <td>91.470001</td>\n",
       "      <td>92.910004</td>\n",
       "      <td>90.620003</td>\n",
       "      <td>92.470001</td>\n",
       "      <td>92.470001</td>\n",
       "      <td>47778400</td>\n",
       "    </tr>\n",
       "    <tr>\n",
       "      <th>10856</th>\n",
       "      <td>2023-04-10</td>\n",
       "      <td>91.320000</td>\n",
       "      <td>95.800003</td>\n",
       "      <td>91.019997</td>\n",
       "      <td>95.480003</td>\n",
       "      <td>95.480003</td>\n",
       "      <td>52536300</td>\n",
       "    </tr>\n",
       "    <tr>\n",
       "      <th>10857</th>\n",
       "      <td>2023-04-11</td>\n",
       "      <td>96.059998</td>\n",
       "      <td>96.070000</td>\n",
       "      <td>92.690002</td>\n",
       "      <td>94.029999</td>\n",
       "      <td>94.029999</td>\n",
       "      <td>51935800</td>\n",
       "    </tr>\n",
       "    <tr>\n",
       "      <th>10858</th>\n",
       "      <td>2023-04-12</td>\n",
       "      <td>94.970001</td>\n",
       "      <td>95.000000</td>\n",
       "      <td>91.739998</td>\n",
       "      <td>92.330002</td>\n",
       "      <td>92.330002</td>\n",
       "      <td>53329300</td>\n",
       "    </tr>\n",
       "  </tbody>\n",
       "</table>\n",
       "<p>10859 rows × 7 columns</p>\n",
       "</div>"
      ],
      "text/plain": [
       "             Date       Open       High        Low      Close  Adj Close  \\\n",
       "0      1980-03-18   0.000000   3.125000   2.937500   3.031250   3.031250   \n",
       "1      1980-03-19   0.000000   3.083333   3.020833   3.041667   3.041667   \n",
       "2      1980-03-20   0.000000   3.062500   3.010417   3.010417   3.010417   \n",
       "3      1980-03-21   0.000000   3.020833   2.906250   2.916667   2.916667   \n",
       "4      1980-03-24   0.000000   2.916667   2.635417   2.666667   2.666667   \n",
       "...           ...        ...        ...        ...        ...        ...   \n",
       "10854  2023-04-05  94.349998  94.500000  91.360001  92.559998  92.559998   \n",
       "10855  2023-04-06  91.470001  92.910004  90.620003  92.470001  92.470001   \n",
       "10856  2023-04-10  91.320000  95.800003  91.019997  95.480003  95.480003   \n",
       "10857  2023-04-11  96.059998  96.070000  92.690002  94.029999  94.029999   \n",
       "10858  2023-04-12  94.970001  95.000000  91.739998  92.330002  92.330002   \n",
       "\n",
       "         Volume  \n",
       "0        727200  \n",
       "1        295200  \n",
       "2        159600  \n",
       "3        130800  \n",
       "4        436800  \n",
       "...         ...  \n",
       "10854  52979300  \n",
       "10855  47778400  \n",
       "10856  52536300  \n",
       "10857  51935800  \n",
       "10858  53329300  \n",
       "\n",
       "[10859 rows x 7 columns]"
      ]
     },
     "execution_count": 118,
     "metadata": {},
     "output_type": "execute_result"
    }
   ],
   "source": [
    "amd"
   ]
  },
  {
   "cell_type": "markdown",
   "id": "97bb540e",
   "metadata": {},
   "source": [
    "# Ad fuller test"
   ]
  },
  {
   "cell_type": "code",
   "execution_count": 95,
   "id": "c3f2ee53",
   "metadata": {},
   "outputs": [
    {
     "name": "stdout",
     "output_type": "stream",
     "text": [
      "Open\n",
      "ADF Statistic: -0.849641\n",
      "p-value: 0.804104\n",
      "\n",
      "High\n",
      "ADF Statistic: -0.997114\n",
      "p-value: 0.754316\n",
      "\n",
      "Low\n",
      "ADF Statistic: -0.780687\n",
      "p-value: 0.824729\n",
      "\n",
      "Close\n",
      "ADF Statistic: -0.910874\n",
      "p-value: 0.784370\n",
      "\n",
      "Adj Close\n",
      "ADF Statistic: -0.910874\n",
      "p-value: 0.784370\n",
      "\n",
      "Volume\n",
      "ADF Statistic: -3.565466\n",
      "p-value: 0.006457\n",
      "\n"
     ]
    }
   ],
   "source": [
    "for i in amd.columns[1:]:\n",
    "    result = adfuller(amd[i])\n",
    "    print(i)\n",
    "    print('ADF Statistic: %f' % result[0])\n",
    "    print('p-value: %f' % result[1])\n",
    "    print()"
   ]
  },
  {
   "cell_type": "code",
   "execution_count": 132,
   "id": "7e0224fe",
   "metadata": {},
   "outputs": [],
   "source": [
    "new = amd\n",
    "new.index=pd.to_datetime(new.Date)"
   ]
  },
  {
   "cell_type": "code",
   "execution_count": 133,
   "id": "fdb2f2d4",
   "metadata": {},
   "outputs": [
    {
     "data": {
      "text/html": [
       "<div>\n",
       "<style scoped>\n",
       "    .dataframe tbody tr th:only-of-type {\n",
       "        vertical-align: middle;\n",
       "    }\n",
       "\n",
       "    .dataframe tbody tr th {\n",
       "        vertical-align: top;\n",
       "    }\n",
       "\n",
       "    .dataframe thead th {\n",
       "        text-align: right;\n",
       "    }\n",
       "</style>\n",
       "<table border=\"1\" class=\"dataframe\">\n",
       "  <thead>\n",
       "    <tr style=\"text-align: right;\">\n",
       "      <th></th>\n",
       "      <th>Close</th>\n",
       "    </tr>\n",
       "    <tr>\n",
       "      <th>Date</th>\n",
       "      <th></th>\n",
       "    </tr>\n",
       "  </thead>\n",
       "  <tbody>\n",
       "    <tr>\n",
       "      <th>1980-03-18</th>\n",
       "      <td>3.031250</td>\n",
       "    </tr>\n",
       "    <tr>\n",
       "      <th>1980-03-19</th>\n",
       "      <td>3.041667</td>\n",
       "    </tr>\n",
       "    <tr>\n",
       "      <th>1980-03-20</th>\n",
       "      <td>3.010417</td>\n",
       "    </tr>\n",
       "    <tr>\n",
       "      <th>1980-03-21</th>\n",
       "      <td>2.916667</td>\n",
       "    </tr>\n",
       "    <tr>\n",
       "      <th>1980-03-24</th>\n",
       "      <td>2.666667</td>\n",
       "    </tr>\n",
       "    <tr>\n",
       "      <th>...</th>\n",
       "      <td>...</td>\n",
       "    </tr>\n",
       "    <tr>\n",
       "      <th>2023-04-05</th>\n",
       "      <td>92.559998</td>\n",
       "    </tr>\n",
       "    <tr>\n",
       "      <th>2023-04-06</th>\n",
       "      <td>92.470001</td>\n",
       "    </tr>\n",
       "    <tr>\n",
       "      <th>2023-04-10</th>\n",
       "      <td>95.480003</td>\n",
       "    </tr>\n",
       "    <tr>\n",
       "      <th>2023-04-11</th>\n",
       "      <td>94.029999</td>\n",
       "    </tr>\n",
       "    <tr>\n",
       "      <th>2023-04-12</th>\n",
       "      <td>92.330002</td>\n",
       "    </tr>\n",
       "  </tbody>\n",
       "</table>\n",
       "<p>10859 rows × 1 columns</p>\n",
       "</div>"
      ],
      "text/plain": [
       "                Close\n",
       "Date                 \n",
       "1980-03-18   3.031250\n",
       "1980-03-19   3.041667\n",
       "1980-03-20   3.010417\n",
       "1980-03-21   2.916667\n",
       "1980-03-24   2.666667\n",
       "...               ...\n",
       "2023-04-05  92.559998\n",
       "2023-04-06  92.470001\n",
       "2023-04-10  95.480003\n",
       "2023-04-11  94.029999\n",
       "2023-04-12  92.330002\n",
       "\n",
       "[10859 rows x 1 columns]"
      ]
     },
     "execution_count": 133,
     "metadata": {},
     "output_type": "execute_result"
    }
   ],
   "source": [
    "new.iloc[:,4:5]"
   ]
  },
  {
   "cell_type": "code",
   "execution_count": 134,
   "id": "efb1ee9b",
   "metadata": {},
   "outputs": [
    {
     "data": {
      "image/png": "[encoded data removed]",
      "text/plain": [
       "<Figure size 432x288 with 4 Axes>"
      ]
     },
     "metadata": {
      "needs_background": "light"
     },
     "output_type": "display_data"
    }
   ],
   "source": [
    "from statsmodels.tsa.seasonal import seasonal_decompose\n",
    "decompose_data = seasonal_decompose(new.iloc[:,4:5], model=\"additive\", period=1)\n",
    "decompose_data.plot();"
   ]
  },
  {
   "cell_type": "markdown",
   "id": "3680b15a",
   "metadata": {},
   "source": [
    "# Split into train and test"
   ]
  },
  {
   "cell_type": "code",
   "execution_count": 92,
   "id": "2ff4df6c",
   "metadata": {},
   "outputs": [
    {
     "name": "stdout",
     "output_type": "stream",
     "text": [
      "(8687,)\n",
      "(2172,)\n"
     ]
    }
   ],
   "source": [
    "# Split data into training and testing sets\n",
    "new = amd\n",
    "#new.index = pd.to_datetime(new.Date)\n",
    "train_size = int(len(new) * 0.8)\n",
    "train, test = new['Close'].iloc[:train_size], new['Close'].iloc[train_size:]\n",
    "print(train.shape)\n",
    "print(test.shape)"
   ]
  },
  {
   "cell_type": "markdown",
   "id": "3cbe5cba",
   "metadata": {},
   "source": [
    "# Model training"
   ]
  },
  {
   "cell_type": "code",
   "execution_count": 93,
   "id": "fdcdbf89",
   "metadata": {},
   "outputs": [
    {
     "name": "stdout",
     "output_type": "stream",
     "text": [
      "                               SARIMAX Results                                \n",
      "==============================================================================\n",
      "Dep. Variable:                  Close   No. Observations:                 8687\n",
      "Model:               SARIMAX(1, 0, 0)   Log Likelihood               -6292.598\n",
      "Date:                Fri, 28 Apr 2023   AIC                          12589.195\n",
      "Time:                        12:21:47   BIC                          12603.335\n",
      "Sample:                             0   HQIC                         12594.015\n",
      "                               - 8687                                         \n",
      "Covariance Type:                  opg                                         \n",
      "==============================================================================\n",
      "                 coef    std err          z      P>|z|      [0.025      0.975]\n",
      "------------------------------------------------------------------------------\n",
      "ar.L1          0.9993      0.000   4712.134      0.000       0.999       1.000\n",
      "sigma2         0.2491      0.001    244.365      0.000       0.247       0.251\n",
      "===================================================================================\n",
      "Ljung-Box (L1) (Q):                   4.55   Jarque-Bera (JB):            236051.51\n",
      "Prob(Q):                              0.03   Prob(JB):                         0.00\n",
      "Heteroskedasticity (H):               2.00   Skew:                            -0.15\n",
      "Prob(H) (two-sided):                  0.00   Kurtosis:                        28.54\n",
      "===================================================================================\n",
      "\n",
      "Warnings:\n",
      "[1] Covariance matrix calculated using the outer product of gradients (complex-step).\n"
     ]
    }
   ],
   "source": [
    "# Fitting the model\n",
    "\n",
    "best_model = SARIMAX(train).fit(order=(1, 1, 1),seasonal_order=(1,1,1,12),enforce_stationarity=False,\n",
    "                                enforce_invertibility=False,dis=-1)\n",
    "print(best_model.summary())"
   ]
  },
  {
   "cell_type": "code",
   "execution_count": 84,
   "id": "c25dd00a",
   "metadata": {},
   "outputs": [
    {
     "data": {
      "image/png": "[encoded data removed]",
      "text/plain": [
       "<Figure size 1080x864 with 4 Axes>"
      ]
     },
     "metadata": {
      "needs_background": "light"
     },
     "output_type": "display_data"
    }
   ],
   "source": [
    "# Model Diagnostics\n",
    "best_model.plot_diagnostics(figsize=(15,12));"
   ]
  },
  {
   "cell_type": "code",
   "execution_count": 78,
   "id": "619bef60",
   "metadata": {},
   "outputs": [
    {
     "data": {
      "text/plain": [
       "0       2.937500\n",
       "1       3.020833\n",
       "2       3.010417\n",
       "3       2.906250\n",
       "4       2.635417\n",
       "          ...   \n",
       "8682    4.200000\n",
       "8683    4.220000\n",
       "8684    4.210000\n",
       "8685    4.210000\n",
       "8686    4.180000\n",
       "Name: Low, Length: 8687, dtype: float64"
      ]
     },
     "execution_count": 78,
     "metadata": {},
     "output_type": "execute_result"
    }
   ],
   "source": [
    "train"
   ]
  },
  {
   "cell_type": "code",
   "execution_count": 79,
   "id": "d22c7826",
   "metadata": {},
   "outputs": [
    {
     "data": {
      "text/plain": [
       "8687      4.130000\n",
       "8688      4.150000\n",
       "8689      4.070000\n",
       "8690      4.140000\n",
       "8691      4.150000\n",
       "           ...    \n",
       "10854    91.360001\n",
       "10855    90.620003\n",
       "10856    91.019997\n",
       "10857    92.690002\n",
       "10858    91.739998\n",
       "Name: Low, Length: 2172, dtype: float64"
      ]
     },
     "execution_count": 79,
     "metadata": {},
     "output_type": "execute_result"
    }
   ],
   "source": [
    "test"
   ]
  },
  {
   "cell_type": "code",
   "execution_count": 64,
   "id": "e650caf3",
   "metadata": {},
   "outputs": [
    {
     "data": {
      "text/plain": [
       "Date\n",
       "2014-08-01    3.777498\n",
       "2014-08-04    3.867439\n",
       "2014-08-05    3.927399\n",
       "2014-08-06    3.967373\n",
       "2014-08-07    4.027333\n",
       "2014-08-08    4.067307\n",
       "2014-08-11    4.047320\n",
       "2014-08-12    3.987359\n",
       "2014-08-13    4.077300\n",
       "2014-08-14    4.027333\n",
       "2014-08-15    4.077300\n",
       "2014-08-18    4.067307\n",
       "2014-08-19    4.137260\n",
       "2014-08-20    4.197220\n",
       "2014-08-21    4.217207\n",
       "2014-08-22    4.207214\n",
       "2014-08-25    4.207214\n",
       "Name: predicted_mean, dtype: float64"
      ]
     },
     "execution_count": 64,
     "metadata": {},
     "output_type": "execute_result"
    }
   ],
   "source": [
    "f"
   ]
  },
  {
   "cell_type": "code",
   "execution_count": 91,
   "id": "8fbfb4d2",
   "metadata": {},
   "outputs": [
    {
     "data": {
      "text/plain": [
       "<matplotlib.legend.Legend at 0x26dad9f1f10>"
      ]
     },
     "execution_count": 91,
     "metadata": {},
     "output_type": "execute_result"
    },
    {
     "data": {
      "image/png": "[encoded data removed]",
      "text/plain": [
       "<Figure size 720x288 with 1 Axes>"
      ]
     },
     "metadata": {
      "needs_background": "light"
     },
     "output_type": "display_data"
    }
   ],
   "source": [
    "#f = best_model.get_forecast(start='2014-08-26', end='2023-04-12')\n",
    "#f = best_model.get_forecast(steps=10)\n",
    "f = best_model.predict(start=0,end= 8687)\n",
    "#f.index = test.index\n",
    "#f = test['sarima_model'].append(f)\n",
    "plt.figure(figsize=(10,4))\n",
    "plt.plot(f, color='r', label='model')\n",
    "plt.plot(test, label='actual')\n",
    "plt.legend(['Predicted','Original'])"
   ]
  },
  {
   "cell_type": "code",
   "execution_count": 19,
   "id": "1277441b",
   "metadata": {},
   "outputs": [
    {
     "name": "stdout",
     "output_type": "stream",
     "text": [
      "Help on method get_forecast in module statsmodels.tsa.statespace.mlemodel:\n",
      "\n",
      "get_forecast(steps=1, **kwargs) method of statsmodels.tsa.statespace.sarimax.SARIMAXResults instance\n",
      "    Out-of-sample forecasts and prediction intervals\n",
      "    \n",
      "    Parameters\n",
      "    ----------\n",
      "    steps : int, str, or datetime, optional\n",
      "        If an integer, the number of steps to forecast from the end of the\n",
      "        sample. Can also be a date string to parse or a datetime type.\n",
      "        However, if the dates index does not have a fixed frequency, steps\n",
      "        must be an integer. Default\n",
      "    **kwargs\n",
      "        Additional arguments may required for forecasting beyond the end\n",
      "        of the sample. See `FilterResults.predict` for more details.\n",
      "    \n",
      "    Returns\n",
      "    -------\n",
      "    forecasts : PredictionResults\n",
      "        PredictionResults instance containing out-of-sample forecasts and\n",
      "        results including confidence intervals.\n",
      "    \n",
      "    See also\n",
      "    --------\n",
      "    forecast\n",
      "        Out-of-sample forecasts.\n",
      "    predict\n",
      "        In-sample predictions and out-of-sample forecasts.\n",
      "    get_prediction\n",
      "        In-sample predictions / out-of-sample forecasts and results\n",
      "        including confidence intervals.\n",
      "\n"
     ]
    }
   ],
   "source": [
    "help(best_model.get_forecast)"
   ]
  },
  {
   "cell_type": "code",
   "execution_count": null,
   "id": "78552239",
   "metadata": {},
   "outputs": [],
   "source": []
  }
 ],
 "metadata": {
  "kernelspec": {
   "display_name": "Python 3 (ipykernel)",
   "language": "python",
   "name": "python3"
  },
  "language_info": {
   "codemirror_mode": {
    "name": "ipython",
    "version": 3
   },
   "file_extension": ".py",
   "mimetype": "text/x-python",
   "name": "python",
   "nbconvert_exporter": "python",
   "pygments_lexer": "ipython3",
   "version": "3.9.12"
  }
 },
 "nbformat": 4,
 "nbformat_minor": 5
}
