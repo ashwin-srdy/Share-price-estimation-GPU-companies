{
 "cells": [
  {
   "cell_type": "code",
   "execution_count": 1,
   "id": "1207d431",
   "metadata": {},
   "outputs": [],
   "source": [
    "import matplotlib.pyplot as plt\n",
    "import seaborn as sns\n",
    "import tensorflow as tf\n",
    "from sklearn.model_selection import train_test_split\n",
    "from statsmodels.tsa.arima.model import ARIMA\n",
    "import sklearn\n",
    "from sklearn.metrics import mean_squared_error, mean_absolute_error, r2_score\n",
    "import math\n",
    "import matplotlib.pyplot as plt\n",
    "from tqdm import tqdm_notebook\n",
    "import numpy as np\n",
    "import pandas as pd\n",
    "from itertools import product\n",
    "from sklearn.linear_model import LinearRegression\n",
    "from sklearn.ensemble import RandomForestRegressor\n",
    "from sklearn.tree import DecisionTreeRegressor, ExtraTreeRegressor\n",
    "import warnings\n",
    "warnings.filterwarnings('ignore')"
   ]
  },
  {
   "cell_type": "markdown",
   "id": "524be430",
   "metadata": {},
   "source": [
    "# Data Loading"
   ]
  },
  {
   "cell_type": "code",
   "execution_count": 19,
   "id": "c4679080",
   "metadata": {},
   "outputs": [],
   "source": [
    "amd = pd.read_csv('Data/AMD (1980-2023).csv')\n",
    "asus = pd.read_csv('Data/ASUS (2000-2023).csv')\n",
    "intel = pd.read_csv('Data/Intel (1980-2023).csv')\n",
    "msi = pd.read_csv('Data/MSI (1962-2023).csv')\n",
    "nvidia = pd.read_csv('Data/NVIDIA (1999-2023).csv')"
   ]
  },
  {
   "cell_type": "code",
   "execution_count": 20,
   "id": "49f23365",
   "metadata": {},
   "outputs": [
    {
     "data": {
      "text/plain": [
       "Date           0\n",
       "Open         123\n",
       "High         123\n",
       "Low          123\n",
       "Close        123\n",
       "Adj Close    123\n",
       "Volume       123\n",
       "dtype: int64"
      ]
     },
     "execution_count": 20,
     "metadata": {},
     "output_type": "execute_result"
    }
   ],
   "source": [
    "asus.isnull().sum()"
   ]
  },
  {
   "cell_type": "code",
   "execution_count": 21,
   "id": "b6621604",
   "metadata": {},
   "outputs": [],
   "source": [
    "for i in asus.columns[1:]:\n",
    "    asus[i].fillna(method='ffill',inplace=True)"
   ]
  },
  {
   "cell_type": "code",
   "execution_count": 22,
   "id": "d36068c1",
   "metadata": {},
   "outputs": [
    {
     "data": {
      "text/html": [
       "<div>\n",
       "<style scoped>\n",
       "    .dataframe tbody tr th:only-of-type {\n",
       "        vertical-align: middle;\n",
       "    }\n",
       "\n",
       "    .dataframe tbody tr th {\n",
       "        vertical-align: top;\n",
       "    }\n",
       "\n",
       "    .dataframe thead th {\n",
       "        text-align: right;\n",
       "    }\n",
       "</style>\n",
       "<table border=\"1\" class=\"dataframe\">\n",
       "  <thead>\n",
       "    <tr style=\"text-align: right;\">\n",
       "      <th></th>\n",
       "      <th>Date</th>\n",
       "      <th>Open</th>\n",
       "      <th>High</th>\n",
       "      <th>Low</th>\n",
       "      <th>Close</th>\n",
       "      <th>Adj Close</th>\n",
       "      <th>Volume</th>\n",
       "    </tr>\n",
       "  </thead>\n",
       "  <tbody>\n",
       "    <tr>\n",
       "      <th>count</th>\n",
       "      <td>10859</td>\n",
       "      <td>10859.000000</td>\n",
       "      <td>10859.000000</td>\n",
       "      <td>10859.000000</td>\n",
       "      <td>10859.000000</td>\n",
       "      <td>10859.000000</td>\n",
       "      <td>1.085900e+04</td>\n",
       "    </tr>\n",
       "    <tr>\n",
       "      <th>unique</th>\n",
       "      <td>10859</td>\n",
       "      <td>NaN</td>\n",
       "      <td>NaN</td>\n",
       "      <td>NaN</td>\n",
       "      <td>NaN</td>\n",
       "      <td>NaN</td>\n",
       "      <td>NaN</td>\n",
       "    </tr>\n",
       "    <tr>\n",
       "      <th>top</th>\n",
       "      <td>1980-03-18</td>\n",
       "      <td>NaN</td>\n",
       "      <td>NaN</td>\n",
       "      <td>NaN</td>\n",
       "      <td>NaN</td>\n",
       "      <td>NaN</td>\n",
       "      <td>NaN</td>\n",
       "    </tr>\n",
       "    <tr>\n",
       "      <th>freq</th>\n",
       "      <td>1</td>\n",
       "      <td>NaN</td>\n",
       "      <td>NaN</td>\n",
       "      <td>NaN</td>\n",
       "      <td>NaN</td>\n",
       "      <td>NaN</td>\n",
       "      <td>NaN</td>\n",
       "    </tr>\n",
       "    <tr>\n",
       "      <th>mean</th>\n",
       "      <td>NaN</td>\n",
       "      <td>16.350958</td>\n",
       "      <td>17.010710</td>\n",
       "      <td>16.280518</td>\n",
       "      <td>16.648080</td>\n",
       "      <td>16.648080</td>\n",
       "      <td>1.819320e+07</td>\n",
       "    </tr>\n",
       "    <tr>\n",
       "      <th>std</th>\n",
       "      <td>NaN</td>\n",
       "      <td>22.396174</td>\n",
       "      <td>22.668726</td>\n",
       "      <td>21.705814</td>\n",
       "      <td>22.196357</td>\n",
       "      <td>22.196357</td>\n",
       "      <td>2.794779e+07</td>\n",
       "    </tr>\n",
       "    <tr>\n",
       "      <th>min</th>\n",
       "      <td>NaN</td>\n",
       "      <td>0.000000</td>\n",
       "      <td>1.690000</td>\n",
       "      <td>1.610000</td>\n",
       "      <td>1.620000</td>\n",
       "      <td>1.620000</td>\n",
       "      <td>0.000000e+00</td>\n",
       "    </tr>\n",
       "    <tr>\n",
       "      <th>25%</th>\n",
       "      <td>NaN</td>\n",
       "      <td>4.937500</td>\n",
       "      <td>5.405000</td>\n",
       "      <td>5.120000</td>\n",
       "      <td>5.265000</td>\n",
       "      <td>5.265000</td>\n",
       "      <td>1.216500e+06</td>\n",
       "    </tr>\n",
       "    <tr>\n",
       "      <th>50%</th>\n",
       "      <td>NaN</td>\n",
       "      <td>9.810000</td>\n",
       "      <td>10.000000</td>\n",
       "      <td>9.562500</td>\n",
       "      <td>9.760000</td>\n",
       "      <td>9.760000</td>\n",
       "      <td>6.745600e+06</td>\n",
       "    </tr>\n",
       "    <tr>\n",
       "      <th>75%</th>\n",
       "      <td>NaN</td>\n",
       "      <td>16.000000</td>\n",
       "      <td>16.250000</td>\n",
       "      <td>15.687500</td>\n",
       "      <td>16.000000</td>\n",
       "      <td>16.000000</td>\n",
       "      <td>2.242935e+07</td>\n",
       "    </tr>\n",
       "    <tr>\n",
       "      <th>max</th>\n",
       "      <td>NaN</td>\n",
       "      <td>163.279999</td>\n",
       "      <td>164.460007</td>\n",
       "      <td>156.100006</td>\n",
       "      <td>161.910004</td>\n",
       "      <td>161.910004</td>\n",
       "      <td>3.250584e+08</td>\n",
       "    </tr>\n",
       "  </tbody>\n",
       "</table>\n",
       "</div>"
      ],
      "text/plain": [
       "              Date          Open          High           Low         Close  \\\n",
       "count        10859  10859.000000  10859.000000  10859.000000  10859.000000   \n",
       "unique       10859           NaN           NaN           NaN           NaN   \n",
       "top     1980-03-18           NaN           NaN           NaN           NaN   \n",
       "freq             1           NaN           NaN           NaN           NaN   \n",
       "mean           NaN     16.350958     17.010710     16.280518     16.648080   \n",
       "std            NaN     22.396174     22.668726     21.705814     22.196357   \n",
       "min            NaN      0.000000      1.690000      1.610000      1.620000   \n",
       "25%            NaN      4.937500      5.405000      5.120000      5.265000   \n",
       "50%            NaN      9.810000     10.000000      9.562500      9.760000   \n",
       "75%            NaN     16.000000     16.250000     15.687500     16.000000   \n",
       "max            NaN    163.279999    164.460007    156.100006    161.910004   \n",
       "\n",
       "           Adj Close        Volume  \n",
       "count   10859.000000  1.085900e+04  \n",
       "unique           NaN           NaN  \n",
       "top              NaN           NaN  \n",
       "freq             NaN           NaN  \n",
       "mean       16.648080  1.819320e+07  \n",
       "std        22.196357  2.794779e+07  \n",
       "min         1.620000  0.000000e+00  \n",
       "25%         5.265000  1.216500e+06  \n",
       "50%         9.760000  6.745600e+06  \n",
       "75%        16.000000  2.242935e+07  \n",
       "max       161.910004  3.250584e+08  "
      ]
     },
     "execution_count": 22,
     "metadata": {},
     "output_type": "execute_result"
    }
   ],
   "source": [
    "amd.describe(include='all')"
   ]
  },
  {
   "cell_type": "code",
   "execution_count": 23,
   "id": "287263a6",
   "metadata": {},
   "outputs": [
    {
     "data": {
      "text/html": [
       "<div>\n",
       "<style scoped>\n",
       "    .dataframe tbody tr th:only-of-type {\n",
       "        vertical-align: middle;\n",
       "    }\n",
       "\n",
       "    .dataframe tbody tr th {\n",
       "        vertical-align: top;\n",
       "    }\n",
       "\n",
       "    .dataframe thead th {\n",
       "        text-align: right;\n",
       "    }\n",
       "</style>\n",
       "<table border=\"1\" class=\"dataframe\">\n",
       "  <thead>\n",
       "    <tr style=\"text-align: right;\">\n",
       "      <th></th>\n",
       "      <th>Date</th>\n",
       "      <th>Open</th>\n",
       "      <th>High</th>\n",
       "      <th>Low</th>\n",
       "      <th>Close</th>\n",
       "      <th>Adj Close</th>\n",
       "      <th>Volume</th>\n",
       "    </tr>\n",
       "  </thead>\n",
       "  <tbody>\n",
       "    <tr>\n",
       "      <th>count</th>\n",
       "      <td>5809</td>\n",
       "      <td>5809.000000</td>\n",
       "      <td>5809.000000</td>\n",
       "      <td>5809.000000</td>\n",
       "      <td>5809.000000</td>\n",
       "      <td>5809.000000</td>\n",
       "      <td>5.809000e+03</td>\n",
       "    </tr>\n",
       "    <tr>\n",
       "      <th>unique</th>\n",
       "      <td>5809</td>\n",
       "      <td>NaN</td>\n",
       "      <td>NaN</td>\n",
       "      <td>NaN</td>\n",
       "      <td>NaN</td>\n",
       "      <td>NaN</td>\n",
       "      <td>NaN</td>\n",
       "    </tr>\n",
       "    <tr>\n",
       "      <th>top</th>\n",
       "      <td>2000-01-05</td>\n",
       "      <td>NaN</td>\n",
       "      <td>NaN</td>\n",
       "      <td>NaN</td>\n",
       "      <td>NaN</td>\n",
       "      <td>NaN</td>\n",
       "      <td>NaN</td>\n",
       "    </tr>\n",
       "    <tr>\n",
       "      <th>freq</th>\n",
       "      <td>1</td>\n",
       "      <td>NaN</td>\n",
       "      <td>NaN</td>\n",
       "      <td>NaN</td>\n",
       "      <td>NaN</td>\n",
       "      <td>NaN</td>\n",
       "      <td>NaN</td>\n",
       "    </tr>\n",
       "    <tr>\n",
       "      <th>mean</th>\n",
       "      <td>NaN</td>\n",
       "      <td>289.085363</td>\n",
       "      <td>292.271108</td>\n",
       "      <td>285.648245</td>\n",
       "      <td>288.823953</td>\n",
       "      <td>132.033444</td>\n",
       "      <td>1.017423e+09</td>\n",
       "    </tr>\n",
       "    <tr>\n",
       "      <th>std</th>\n",
       "      <td>NaN</td>\n",
       "      <td>76.756400</td>\n",
       "      <td>77.501044</td>\n",
       "      <td>75.704376</td>\n",
       "      <td>76.345678</td>\n",
       "      <td>67.533201</td>\n",
       "      <td>2.176489e+09</td>\n",
       "    </tr>\n",
       "    <tr>\n",
       "      <th>min</th>\n",
       "      <td>NaN</td>\n",
       "      <td>127.106941</td>\n",
       "      <td>130.196335</td>\n",
       "      <td>127.106941</td>\n",
       "      <td>130.196335</td>\n",
       "      <td>30.318747</td>\n",
       "      <td>0.000000e+00</td>\n",
       "    </tr>\n",
       "    <tr>\n",
       "      <th>25%</th>\n",
       "      <td>NaN</td>\n",
       "      <td>232.500000</td>\n",
       "      <td>235.000000</td>\n",
       "      <td>230.000000</td>\n",
       "      <td>232.000000</td>\n",
       "      <td>78.203926</td>\n",
       "      <td>1.717237e+06</td>\n",
       "    </tr>\n",
       "    <tr>\n",
       "      <th>50%</th>\n",
       "      <td>NaN</td>\n",
       "      <td>277.000000</td>\n",
       "      <td>279.259766</td>\n",
       "      <td>275.000000</td>\n",
       "      <td>277.000000</td>\n",
       "      <td>123.296661</td>\n",
       "      <td>3.232187e+06</td>\n",
       "    </tr>\n",
       "    <tr>\n",
       "      <th>75%</th>\n",
       "      <td>NaN</td>\n",
       "      <td>331.007599</td>\n",
       "      <td>335.420990</td>\n",
       "      <td>327.085663</td>\n",
       "      <td>331.147552</td>\n",
       "      <td>170.237152</td>\n",
       "      <td>7.681183e+08</td>\n",
       "    </tr>\n",
       "    <tr>\n",
       "      <th>max</th>\n",
       "      <td>NaN</td>\n",
       "      <td>567.667419</td>\n",
       "      <td>575.104126</td>\n",
       "      <td>547.836243</td>\n",
       "      <td>565.188538</td>\n",
       "      <td>330.402832</td>\n",
       "      <td>2.833812e+10</td>\n",
       "    </tr>\n",
       "  </tbody>\n",
       "</table>\n",
       "</div>"
      ],
      "text/plain": [
       "              Date         Open         High          Low        Close  \\\n",
       "count         5809  5809.000000  5809.000000  5809.000000  5809.000000   \n",
       "unique        5809          NaN          NaN          NaN          NaN   \n",
       "top     2000-01-05          NaN          NaN          NaN          NaN   \n",
       "freq             1          NaN          NaN          NaN          NaN   \n",
       "mean           NaN   289.085363   292.271108   285.648245   288.823953   \n",
       "std            NaN    76.756400    77.501044    75.704376    76.345678   \n",
       "min            NaN   127.106941   130.196335   127.106941   130.196335   \n",
       "25%            NaN   232.500000   235.000000   230.000000   232.000000   \n",
       "50%            NaN   277.000000   279.259766   275.000000   277.000000   \n",
       "75%            NaN   331.007599   335.420990   327.085663   331.147552   \n",
       "max            NaN   567.667419   575.104126   547.836243   565.188538   \n",
       "\n",
       "          Adj Close        Volume  \n",
       "count   5809.000000  5.809000e+03  \n",
       "unique          NaN           NaN  \n",
       "top             NaN           NaN  \n",
       "freq            NaN           NaN  \n",
       "mean     132.033444  1.017423e+09  \n",
       "std       67.533201  2.176489e+09  \n",
       "min       30.318747  0.000000e+00  \n",
       "25%       78.203926  1.717237e+06  \n",
       "50%      123.296661  3.232187e+06  \n",
       "75%      170.237152  7.681183e+08  \n",
       "max      330.402832  2.833812e+10  "
      ]
     },
     "execution_count": 23,
     "metadata": {},
     "output_type": "execute_result"
    }
   ],
   "source": [
    "asus.describe(include='all')"
   ]
  },
  {
   "cell_type": "code",
   "execution_count": 24,
   "id": "92c10be8",
   "metadata": {},
   "outputs": [
    {
     "data": {
      "text/html": [
       "<div>\n",
       "<style scoped>\n",
       "    .dataframe tbody tr th:only-of-type {\n",
       "        vertical-align: middle;\n",
       "    }\n",
       "\n",
       "    .dataframe tbody tr th {\n",
       "        vertical-align: top;\n",
       "    }\n",
       "\n",
       "    .dataframe thead th {\n",
       "        text-align: right;\n",
       "    }\n",
       "</style>\n",
       "<table border=\"1\" class=\"dataframe\">\n",
       "  <thead>\n",
       "    <tr style=\"text-align: right;\">\n",
       "      <th></th>\n",
       "      <th>Date</th>\n",
       "      <th>Open</th>\n",
       "      <th>High</th>\n",
       "      <th>Low</th>\n",
       "      <th>Close</th>\n",
       "      <th>Adj Close</th>\n",
       "      <th>Volume</th>\n",
       "    </tr>\n",
       "  </thead>\n",
       "  <tbody>\n",
       "    <tr>\n",
       "      <th>count</th>\n",
       "      <td>10859</td>\n",
       "      <td>10859.000000</td>\n",
       "      <td>10859.000000</td>\n",
       "      <td>10859.000000</td>\n",
       "      <td>10859.000000</td>\n",
       "      <td>10859.000000</td>\n",
       "      <td>1.085900e+04</td>\n",
       "    </tr>\n",
       "    <tr>\n",
       "      <th>unique</th>\n",
       "      <td>10859</td>\n",
       "      <td>NaN</td>\n",
       "      <td>NaN</td>\n",
       "      <td>NaN</td>\n",
       "      <td>NaN</td>\n",
       "      <td>NaN</td>\n",
       "      <td>NaN</td>\n",
       "    </tr>\n",
       "    <tr>\n",
       "      <th>top</th>\n",
       "      <td>1980-03-18</td>\n",
       "      <td>NaN</td>\n",
       "      <td>NaN</td>\n",
       "      <td>NaN</td>\n",
       "      <td>NaN</td>\n",
       "      <td>NaN</td>\n",
       "      <td>NaN</td>\n",
       "    </tr>\n",
       "    <tr>\n",
       "      <th>freq</th>\n",
       "      <td>1</td>\n",
       "      <td>NaN</td>\n",
       "      <td>NaN</td>\n",
       "      <td>NaN</td>\n",
       "      <td>NaN</td>\n",
       "      <td>NaN</td>\n",
       "      <td>NaN</td>\n",
       "    </tr>\n",
       "    <tr>\n",
       "      <th>mean</th>\n",
       "      <td>NaN</td>\n",
       "      <td>19.834106</td>\n",
       "      <td>20.105102</td>\n",
       "      <td>19.565597</td>\n",
       "      <td>19.833531</td>\n",
       "      <td>14.636382</td>\n",
       "      <td>5.056303e+07</td>\n",
       "    </tr>\n",
       "    <tr>\n",
       "      <th>std</th>\n",
       "      <td>NaN</td>\n",
       "      <td>17.514871</td>\n",
       "      <td>17.756945</td>\n",
       "      <td>17.278878</td>\n",
       "      <td>17.514300</td>\n",
       "      <td>14.829796</td>\n",
       "      <td>3.487815e+07</td>\n",
       "    </tr>\n",
       "    <tr>\n",
       "      <th>min</th>\n",
       "      <td>NaN</td>\n",
       "      <td>0.218750</td>\n",
       "      <td>0.218750</td>\n",
       "      <td>0.216146</td>\n",
       "      <td>0.216146</td>\n",
       "      <td>0.123476</td>\n",
       "      <td>0.000000e+00</td>\n",
       "    </tr>\n",
       "    <tr>\n",
       "      <th>25%</th>\n",
       "      <td>NaN</td>\n",
       "      <td>1.328125</td>\n",
       "      <td>1.343750</td>\n",
       "      <td>1.304688</td>\n",
       "      <td>1.328125</td>\n",
       "      <td>0.758707</td>\n",
       "      <td>2.708505e+07</td>\n",
       "    </tr>\n",
       "    <tr>\n",
       "      <th>50%</th>\n",
       "      <td>NaN</td>\n",
       "      <td>20.277344</td>\n",
       "      <td>20.562500</td>\n",
       "      <td>20.010000</td>\n",
       "      <td>20.280001</td>\n",
       "      <td>12.665797</td>\n",
       "      <td>4.460160e+07</td>\n",
       "    </tr>\n",
       "    <tr>\n",
       "      <th>75%</th>\n",
       "      <td>NaN</td>\n",
       "      <td>29.980000</td>\n",
       "      <td>30.425000</td>\n",
       "      <td>29.520000</td>\n",
       "      <td>29.950001</td>\n",
       "      <td>19.808317</td>\n",
       "      <td>6.477205e+07</td>\n",
       "    </tr>\n",
       "    <tr>\n",
       "      <th>max</th>\n",
       "      <td>NaN</td>\n",
       "      <td>75.625000</td>\n",
       "      <td>75.828125</td>\n",
       "      <td>73.625000</td>\n",
       "      <td>74.875000</td>\n",
       "      <td>63.608189</td>\n",
       "      <td>5.677088e+08</td>\n",
       "    </tr>\n",
       "  </tbody>\n",
       "</table>\n",
       "</div>"
      ],
      "text/plain": [
       "              Date          Open          High           Low         Close  \\\n",
       "count        10859  10859.000000  10859.000000  10859.000000  10859.000000   \n",
       "unique       10859           NaN           NaN           NaN           NaN   \n",
       "top     1980-03-18           NaN           NaN           NaN           NaN   \n",
       "freq             1           NaN           NaN           NaN           NaN   \n",
       "mean           NaN     19.834106     20.105102     19.565597     19.833531   \n",
       "std            NaN     17.514871     17.756945     17.278878     17.514300   \n",
       "min            NaN      0.218750      0.218750      0.216146      0.216146   \n",
       "25%            NaN      1.328125      1.343750      1.304688      1.328125   \n",
       "50%            NaN     20.277344     20.562500     20.010000     20.280001   \n",
       "75%            NaN     29.980000     30.425000     29.520000     29.950001   \n",
       "max            NaN     75.625000     75.828125     73.625000     74.875000   \n",
       "\n",
       "           Adj Close        Volume  \n",
       "count   10859.000000  1.085900e+04  \n",
       "unique           NaN           NaN  \n",
       "top              NaN           NaN  \n",
       "freq             NaN           NaN  \n",
       "mean       14.636382  5.056303e+07  \n",
       "std        14.829796  3.487815e+07  \n",
       "min         0.123476  0.000000e+00  \n",
       "25%         0.758707  2.708505e+07  \n",
       "50%        12.665797  4.460160e+07  \n",
       "75%        19.808317  6.477205e+07  \n",
       "max        63.608189  5.677088e+08  "
      ]
     },
     "execution_count": 24,
     "metadata": {},
     "output_type": "execute_result"
    }
   ],
   "source": [
    "intel.describe(include='all')"
   ]
  },
  {
   "cell_type": "code",
   "execution_count": 25,
   "id": "02b65431",
   "metadata": {},
   "outputs": [
    {
     "data": {
      "text/html": [
       "<div>\n",
       "<style scoped>\n",
       "    .dataframe tbody tr th:only-of-type {\n",
       "        vertical-align: middle;\n",
       "    }\n",
       "\n",
       "    .dataframe tbody tr th {\n",
       "        vertical-align: top;\n",
       "    }\n",
       "\n",
       "    .dataframe thead th {\n",
       "        text-align: right;\n",
       "    }\n",
       "</style>\n",
       "<table border=\"1\" class=\"dataframe\">\n",
       "  <thead>\n",
       "    <tr style=\"text-align: right;\">\n",
       "      <th></th>\n",
       "      <th>Date</th>\n",
       "      <th>Open</th>\n",
       "      <th>High</th>\n",
       "      <th>Low</th>\n",
       "      <th>Close</th>\n",
       "      <th>Adj Close</th>\n",
       "      <th>Volume</th>\n",
       "    </tr>\n",
       "  </thead>\n",
       "  <tbody>\n",
       "    <tr>\n",
       "      <th>count</th>\n",
       "      <td>15424</td>\n",
       "      <td>15424.000000</td>\n",
       "      <td>15424.000000</td>\n",
       "      <td>15424.000000</td>\n",
       "      <td>15424.000000</td>\n",
       "      <td>15424.000000</td>\n",
       "      <td>1.542400e+04</td>\n",
       "    </tr>\n",
       "    <tr>\n",
       "      <th>unique</th>\n",
       "      <td>15424</td>\n",
       "      <td>NaN</td>\n",
       "      <td>NaN</td>\n",
       "      <td>NaN</td>\n",
       "      <td>NaN</td>\n",
       "      <td>NaN</td>\n",
       "      <td>NaN</td>\n",
       "    </tr>\n",
       "    <tr>\n",
       "      <th>top</th>\n",
       "      <td>1962-01-03</td>\n",
       "      <td>NaN</td>\n",
       "      <td>NaN</td>\n",
       "      <td>NaN</td>\n",
       "      <td>NaN</td>\n",
       "      <td>NaN</td>\n",
       "      <td>NaN</td>\n",
       "    </tr>\n",
       "    <tr>\n",
       "      <th>freq</th>\n",
       "      <td>1</td>\n",
       "      <td>NaN</td>\n",
       "      <td>NaN</td>\n",
       "      <td>NaN</td>\n",
       "      <td>NaN</td>\n",
       "      <td>NaN</td>\n",
       "      <td>NaN</td>\n",
       "    </tr>\n",
       "    <tr>\n",
       "      <th>mean</th>\n",
       "      <td>NaN</td>\n",
       "      <td>44.977492</td>\n",
       "      <td>46.412619</td>\n",
       "      <td>45.224755</td>\n",
       "      <td>45.825400</td>\n",
       "      <td>37.652783</td>\n",
       "      <td>1.997183e+06</td>\n",
       "    </tr>\n",
       "    <tr>\n",
       "      <th>std</th>\n",
       "      <td>NaN</td>\n",
       "      <td>54.883169</td>\n",
       "      <td>54.841002</td>\n",
       "      <td>53.578205</td>\n",
       "      <td>54.222402</td>\n",
       "      <td>51.144917</td>\n",
       "      <td>2.347513e+06</td>\n",
       "    </tr>\n",
       "    <tr>\n",
       "      <th>min</th>\n",
       "      <td>NaN</td>\n",
       "      <td>0.000000</td>\n",
       "      <td>0.866821</td>\n",
       "      <td>0.808196</td>\n",
       "      <td>0.845884</td>\n",
       "      <td>0.376771</td>\n",
       "      <td>0.000000e+00</td>\n",
       "    </tr>\n",
       "    <tr>\n",
       "      <th>25%</th>\n",
       "      <td>NaN</td>\n",
       "      <td>3.768789</td>\n",
       "      <td>5.175804</td>\n",
       "      <td>5.025052</td>\n",
       "      <td>5.100428</td>\n",
       "      <td>2.625478</td>\n",
       "      <td>5.059500e+05</td>\n",
       "    </tr>\n",
       "    <tr>\n",
       "      <th>50%</th>\n",
       "      <td>NaN</td>\n",
       "      <td>23.517244</td>\n",
       "      <td>23.856436</td>\n",
       "      <td>23.230058</td>\n",
       "      <td>23.554932</td>\n",
       "      <td>16.259139</td>\n",
       "      <td>1.294556e+06</td>\n",
       "    </tr>\n",
       "    <tr>\n",
       "      <th>75%</th>\n",
       "      <td>NaN</td>\n",
       "      <td>67.235199</td>\n",
       "      <td>67.988953</td>\n",
       "      <td>66.486078</td>\n",
       "      <td>67.235199</td>\n",
       "      <td>52.269761</td>\n",
       "      <td>2.627212e+06</td>\n",
       "    </tr>\n",
       "    <tr>\n",
       "      <th>max</th>\n",
       "      <td>NaN</td>\n",
       "      <td>286.209991</td>\n",
       "      <td>287.420013</td>\n",
       "      <td>283.739990</td>\n",
       "      <td>286.140015</td>\n",
       "      <td>286.140015</td>\n",
       "      <td>4.717163e+07</td>\n",
       "    </tr>\n",
       "  </tbody>\n",
       "</table>\n",
       "</div>"
      ],
      "text/plain": [
       "              Date          Open          High           Low         Close  \\\n",
       "count        15424  15424.000000  15424.000000  15424.000000  15424.000000   \n",
       "unique       15424           NaN           NaN           NaN           NaN   \n",
       "top     1962-01-03           NaN           NaN           NaN           NaN   \n",
       "freq             1           NaN           NaN           NaN           NaN   \n",
       "mean           NaN     44.977492     46.412619     45.224755     45.825400   \n",
       "std            NaN     54.883169     54.841002     53.578205     54.222402   \n",
       "min            NaN      0.000000      0.866821      0.808196      0.845884   \n",
       "25%            NaN      3.768789      5.175804      5.025052      5.100428   \n",
       "50%            NaN     23.517244     23.856436     23.230058     23.554932   \n",
       "75%            NaN     67.235199     67.988953     66.486078     67.235199   \n",
       "max            NaN    286.209991    287.420013    283.739990    286.140015   \n",
       "\n",
       "           Adj Close        Volume  \n",
       "count   15424.000000  1.542400e+04  \n",
       "unique           NaN           NaN  \n",
       "top              NaN           NaN  \n",
       "freq             NaN           NaN  \n",
       "mean       37.652783  1.997183e+06  \n",
       "std        51.144917  2.347513e+06  \n",
       "min         0.376771  0.000000e+00  \n",
       "25%         2.625478  5.059500e+05  \n",
       "50%        16.259139  1.294556e+06  \n",
       "75%        52.269761  2.627212e+06  \n",
       "max       286.140015  4.717163e+07  "
      ]
     },
     "execution_count": 25,
     "metadata": {},
     "output_type": "execute_result"
    }
   ],
   "source": [
    "msi.describe(include='all')"
   ]
  },
  {
   "cell_type": "code",
   "execution_count": 26,
   "id": "ee1e4b3e",
   "metadata": {},
   "outputs": [
    {
     "data": {
      "text/html": [
       "<div>\n",
       "<style scoped>\n",
       "    .dataframe tbody tr th:only-of-type {\n",
       "        vertical-align: middle;\n",
       "    }\n",
       "\n",
       "    .dataframe tbody tr th {\n",
       "        vertical-align: top;\n",
       "    }\n",
       "\n",
       "    .dataframe thead th {\n",
       "        text-align: right;\n",
       "    }\n",
       "</style>\n",
       "<table border=\"1\" class=\"dataframe\">\n",
       "  <thead>\n",
       "    <tr style=\"text-align: right;\">\n",
       "      <th></th>\n",
       "      <th>Date</th>\n",
       "      <th>Open</th>\n",
       "      <th>High</th>\n",
       "      <th>Low</th>\n",
       "      <th>Close</th>\n",
       "      <th>Adj Close</th>\n",
       "      <th>Volume</th>\n",
       "    </tr>\n",
       "  </thead>\n",
       "  <tbody>\n",
       "    <tr>\n",
       "      <th>count</th>\n",
       "      <td>6094</td>\n",
       "      <td>6094.000000</td>\n",
       "      <td>6094.000000</td>\n",
       "      <td>6094.000000</td>\n",
       "      <td>6094.000000</td>\n",
       "      <td>6094.000000</td>\n",
       "      <td>6.094000e+03</td>\n",
       "    </tr>\n",
       "    <tr>\n",
       "      <th>unique</th>\n",
       "      <td>6094</td>\n",
       "      <td>NaN</td>\n",
       "      <td>NaN</td>\n",
       "      <td>NaN</td>\n",
       "      <td>NaN</td>\n",
       "      <td>NaN</td>\n",
       "      <td>NaN</td>\n",
       "    </tr>\n",
       "    <tr>\n",
       "      <th>top</th>\n",
       "      <td>1999-01-25</td>\n",
       "      <td>NaN</td>\n",
       "      <td>NaN</td>\n",
       "      <td>NaN</td>\n",
       "      <td>NaN</td>\n",
       "      <td>NaN</td>\n",
       "      <td>NaN</td>\n",
       "    </tr>\n",
       "    <tr>\n",
       "      <th>freq</th>\n",
       "      <td>1</td>\n",
       "      <td>NaN</td>\n",
       "      <td>NaN</td>\n",
       "      <td>NaN</td>\n",
       "      <td>NaN</td>\n",
       "      <td>NaN</td>\n",
       "      <td>NaN</td>\n",
       "    </tr>\n",
       "    <tr>\n",
       "      <th>mean</th>\n",
       "      <td>NaN</td>\n",
       "      <td>30.987375</td>\n",
       "      <td>31.585369</td>\n",
       "      <td>30.369141</td>\n",
       "      <td>31.003835</td>\n",
       "      <td>30.743154</td>\n",
       "      <td>6.134634e+07</td>\n",
       "    </tr>\n",
       "    <tr>\n",
       "      <th>std</th>\n",
       "      <td>NaN</td>\n",
       "      <td>59.862014</td>\n",
       "      <td>61.089822</td>\n",
       "      <td>58.564768</td>\n",
       "      <td>59.881405</td>\n",
       "      <td>59.882440</td>\n",
       "      <td>4.399760e+07</td>\n",
       "    </tr>\n",
       "    <tr>\n",
       "      <th>min</th>\n",
       "      <td>NaN</td>\n",
       "      <td>0.348958</td>\n",
       "      <td>0.355469</td>\n",
       "      <td>0.333333</td>\n",
       "      <td>0.341146</td>\n",
       "      <td>0.313034</td>\n",
       "      <td>1.968000e+06</td>\n",
       "    </tr>\n",
       "    <tr>\n",
       "      <th>25%</th>\n",
       "      <td>NaN</td>\n",
       "      <td>2.671094</td>\n",
       "      <td>2.750000</td>\n",
       "      <td>2.598027</td>\n",
       "      <td>2.670208</td>\n",
       "      <td>2.450174</td>\n",
       "      <td>3.440110e+07</td>\n",
       "    </tr>\n",
       "    <tr>\n",
       "      <th>50%</th>\n",
       "      <td>NaN</td>\n",
       "      <td>4.285000</td>\n",
       "      <td>4.377500</td>\n",
       "      <td>4.210000</td>\n",
       "      <td>4.290000</td>\n",
       "      <td>3.946429</td>\n",
       "      <td>5.151250e+07</td>\n",
       "    </tr>\n",
       "    <tr>\n",
       "      <th>75%</th>\n",
       "      <td>NaN</td>\n",
       "      <td>26.690000</td>\n",
       "      <td>27.198125</td>\n",
       "      <td>26.404999</td>\n",
       "      <td>26.818125</td>\n",
       "      <td>26.440031</td>\n",
       "      <td>7.462690e+07</td>\n",
       "    </tr>\n",
       "    <tr>\n",
       "      <th>max</th>\n",
       "      <td>NaN</td>\n",
       "      <td>335.170013</td>\n",
       "      <td>346.470001</td>\n",
       "      <td>320.359985</td>\n",
       "      <td>333.760010</td>\n",
       "      <td>333.350800</td>\n",
       "      <td>9.230856e+08</td>\n",
       "    </tr>\n",
       "  </tbody>\n",
       "</table>\n",
       "</div>"
      ],
      "text/plain": [
       "              Date         Open         High          Low        Close  \\\n",
       "count         6094  6094.000000  6094.000000  6094.000000  6094.000000   \n",
       "unique        6094          NaN          NaN          NaN          NaN   \n",
       "top     1999-01-25          NaN          NaN          NaN          NaN   \n",
       "freq             1          NaN          NaN          NaN          NaN   \n",
       "mean           NaN    30.987375    31.585369    30.369141    31.003835   \n",
       "std            NaN    59.862014    61.089822    58.564768    59.881405   \n",
       "min            NaN     0.348958     0.355469     0.333333     0.341146   \n",
       "25%            NaN     2.671094     2.750000     2.598027     2.670208   \n",
       "50%            NaN     4.285000     4.377500     4.210000     4.290000   \n",
       "75%            NaN    26.690000    27.198125    26.404999    26.818125   \n",
       "max            NaN   335.170013   346.470001   320.359985   333.760010   \n",
       "\n",
       "          Adj Close        Volume  \n",
       "count   6094.000000  6.094000e+03  \n",
       "unique          NaN           NaN  \n",
       "top             NaN           NaN  \n",
       "freq            NaN           NaN  \n",
       "mean      30.743154  6.134634e+07  \n",
       "std       59.882440  4.399760e+07  \n",
       "min        0.313034  1.968000e+06  \n",
       "25%        2.450174  3.440110e+07  \n",
       "50%        3.946429  5.151250e+07  \n",
       "75%       26.440031  7.462690e+07  \n",
       "max      333.350800  9.230856e+08  "
      ]
     },
     "execution_count": 26,
     "metadata": {},
     "output_type": "execute_result"
    }
   ],
   "source": [
    "nvidia.describe(include='all')"
   ]
  },
  {
   "cell_type": "markdown",
   "id": "f743394a",
   "metadata": {},
   "source": [
    "# Data analysis"
   ]
  },
  {
   "cell_type": "code",
   "execution_count": 27,
   "id": "ad1c052b",
   "metadata": {},
   "outputs": [
    {
     "data": {
      "image/png": "[encoded data removed]",
      "text/plain": [
       "<Figure size 1008x504 with 6 Axes>"
      ]
     },
     "metadata": {
      "needs_background": "light"
     },
     "output_type": "display_data"
    }
   ],
   "source": [
    "import matplotlib.dates as mdates\n",
    "# Plot line charts\n",
    "df_plot = amd.drop(columns=['Date'])\n",
    "\n",
    "ncols = 2\n",
    "nrows = int(round(df_plot.shape[1] / ncols, 0))\n",
    "\n",
    "fig, ax = plt.subplots(nrows=nrows, ncols=ncols, sharex=True, figsize=(14, 7))\n",
    "for i, ax in enumerate(fig.axes):\n",
    "        sns.lineplot(data = df_plot.iloc[:, i], ax=ax)\n",
    "        ax.tick_params(axis=\"x\", rotation=30, labelsize=10, length=0)\n",
    "        ax.xaxis.set_major_locator(mdates.AutoDateLocator())\n",
    "fig.tight_layout()\n",
    "plt.show()"
   ]
  },
  {
   "cell_type": "code",
   "execution_count": 28,
   "id": "18229f9e",
   "metadata": {},
   "outputs": [
    {
     "data": {
      "text/plain": [
       "\"amd['Company']=np.repeat(0,len(amd))\\nasus['Company']=np.repeat(1,len(asus))\\nintel['Company']=np.repeat(2,len(intel))\\nmsi['Company']=np.repeat(3,len(msi))\\nnvidia['Company']=np.repeat(4,len(nvidia))\""
      ]
     },
     "execution_count": 28,
     "metadata": {},
     "output_type": "execute_result"
    }
   ],
   "source": [
    "'''amd['Company']=np.repeat(0,len(amd))\n",
    "asus['Company']=np.repeat(1,len(asus))\n",
    "intel['Company']=np.repeat(2,len(intel))\n",
    "msi['Company']=np.repeat(3,len(msi))\n",
    "nvidia['Company']=np.repeat(4,len(nvidia))'''"
   ]
  },
  {
   "cell_type": "code",
   "execution_count": 29,
   "id": "abc34fba",
   "metadata": {},
   "outputs": [
    {
     "data": {
      "text/html": [
       "<div>\n",
       "<style scoped>\n",
       "    .dataframe tbody tr th:only-of-type {\n",
       "        vertical-align: middle;\n",
       "    }\n",
       "\n",
       "    .dataframe tbody tr th {\n",
       "        vertical-align: top;\n",
       "    }\n",
       "\n",
       "    .dataframe thead th {\n",
       "        text-align: right;\n",
       "    }\n",
       "</style>\n",
       "<table border=\"1\" class=\"dataframe\">\n",
       "  <thead>\n",
       "    <tr style=\"text-align: right;\">\n",
       "      <th></th>\n",
       "      <th>Date</th>\n",
       "      <th>Open</th>\n",
       "      <th>High</th>\n",
       "      <th>Low</th>\n",
       "      <th>Close</th>\n",
       "      <th>Adj Close</th>\n",
       "      <th>Volume</th>\n",
       "    </tr>\n",
       "  </thead>\n",
       "  <tbody>\n",
       "    <tr>\n",
       "      <th>0</th>\n",
       "      <td>1980-03-18</td>\n",
       "      <td>0.000000</td>\n",
       "      <td>3.125000</td>\n",
       "      <td>2.937500</td>\n",
       "      <td>3.031250</td>\n",
       "      <td>3.031250</td>\n",
       "      <td>727200.0</td>\n",
       "    </tr>\n",
       "    <tr>\n",
       "      <th>1</th>\n",
       "      <td>1980-03-19</td>\n",
       "      <td>0.000000</td>\n",
       "      <td>3.083333</td>\n",
       "      <td>3.020833</td>\n",
       "      <td>3.041667</td>\n",
       "      <td>3.041667</td>\n",
       "      <td>295200.0</td>\n",
       "    </tr>\n",
       "    <tr>\n",
       "      <th>2</th>\n",
       "      <td>1980-03-20</td>\n",
       "      <td>0.000000</td>\n",
       "      <td>3.062500</td>\n",
       "      <td>3.010417</td>\n",
       "      <td>3.010417</td>\n",
       "      <td>3.010417</td>\n",
       "      <td>159600.0</td>\n",
       "    </tr>\n",
       "    <tr>\n",
       "      <th>3</th>\n",
       "      <td>1980-03-21</td>\n",
       "      <td>0.000000</td>\n",
       "      <td>3.020833</td>\n",
       "      <td>2.906250</td>\n",
       "      <td>2.916667</td>\n",
       "      <td>2.916667</td>\n",
       "      <td>130800.0</td>\n",
       "    </tr>\n",
       "    <tr>\n",
       "      <th>4</th>\n",
       "      <td>1980-03-24</td>\n",
       "      <td>0.000000</td>\n",
       "      <td>2.916667</td>\n",
       "      <td>2.635417</td>\n",
       "      <td>2.666667</td>\n",
       "      <td>2.666667</td>\n",
       "      <td>436800.0</td>\n",
       "    </tr>\n",
       "    <tr>\n",
       "      <th>...</th>\n",
       "      <td>...</td>\n",
       "      <td>...</td>\n",
       "      <td>...</td>\n",
       "      <td>...</td>\n",
       "      <td>...</td>\n",
       "      <td>...</td>\n",
       "      <td>...</td>\n",
       "    </tr>\n",
       "    <tr>\n",
       "      <th>6089</th>\n",
       "      <td>2023-04-05</td>\n",
       "      <td>268.290009</td>\n",
       "      <td>269.980011</td>\n",
       "      <td>263.950012</td>\n",
       "      <td>268.809998</td>\n",
       "      <td>268.809998</td>\n",
       "      <td>51501500.0</td>\n",
       "    </tr>\n",
       "    <tr>\n",
       "      <th>6090</th>\n",
       "      <td>2023-04-06</td>\n",
       "      <td>265.839996</td>\n",
       "      <td>270.799988</td>\n",
       "      <td>264.269989</td>\n",
       "      <td>270.369995</td>\n",
       "      <td>270.369995</td>\n",
       "      <td>39765400.0</td>\n",
       "    </tr>\n",
       "    <tr>\n",
       "      <th>6091</th>\n",
       "      <td>2023-04-10</td>\n",
       "      <td>268.230011</td>\n",
       "      <td>276.209991</td>\n",
       "      <td>266.690002</td>\n",
       "      <td>275.790009</td>\n",
       "      <td>275.790009</td>\n",
       "      <td>39527900.0</td>\n",
       "    </tr>\n",
       "    <tr>\n",
       "      <th>6092</th>\n",
       "      <td>2023-04-11</td>\n",
       "      <td>277.239990</td>\n",
       "      <td>277.899994</td>\n",
       "      <td>271.260010</td>\n",
       "      <td>271.690002</td>\n",
       "      <td>271.690002</td>\n",
       "      <td>31437800.0</td>\n",
       "    </tr>\n",
       "    <tr>\n",
       "      <th>6093</th>\n",
       "      <td>2023-04-12</td>\n",
       "      <td>273.700012</td>\n",
       "      <td>274.679993</td>\n",
       "      <td>264.480011</td>\n",
       "      <td>264.950012</td>\n",
       "      <td>264.950012</td>\n",
       "      <td>44529900.0</td>\n",
       "    </tr>\n",
       "  </tbody>\n",
       "</table>\n",
       "<p>49045 rows × 7 columns</p>\n",
       "</div>"
      ],
      "text/plain": [
       "            Date        Open        High         Low       Close   Adj Close  \\\n",
       "0     1980-03-18    0.000000    3.125000    2.937500    3.031250    3.031250   \n",
       "1     1980-03-19    0.000000    3.083333    3.020833    3.041667    3.041667   \n",
       "2     1980-03-20    0.000000    3.062500    3.010417    3.010417    3.010417   \n",
       "3     1980-03-21    0.000000    3.020833    2.906250    2.916667    2.916667   \n",
       "4     1980-03-24    0.000000    2.916667    2.635417    2.666667    2.666667   \n",
       "...          ...         ...         ...         ...         ...         ...   \n",
       "6089  2023-04-05  268.290009  269.980011  263.950012  268.809998  268.809998   \n",
       "6090  2023-04-06  265.839996  270.799988  264.269989  270.369995  270.369995   \n",
       "6091  2023-04-10  268.230011  276.209991  266.690002  275.790009  275.790009   \n",
       "6092  2023-04-11  277.239990  277.899994  271.260010  271.690002  271.690002   \n",
       "6093  2023-04-12  273.700012  274.679993  264.480011  264.950012  264.950012   \n",
       "\n",
       "          Volume  \n",
       "0       727200.0  \n",
       "1       295200.0  \n",
       "2       159600.0  \n",
       "3       130800.0  \n",
       "4       436800.0  \n",
       "...          ...  \n",
       "6089  51501500.0  \n",
       "6090  39765400.0  \n",
       "6091  39527900.0  \n",
       "6092  31437800.0  \n",
       "6093  44529900.0  \n",
       "\n",
       "[49045 rows x 7 columns]"
      ]
     },
     "execution_count": 29,
     "metadata": {},
     "output_type": "execute_result"
    }
   ],
   "source": [
    "merged = pd.concat([amd,asus,intel,msi,nvidia])\n",
    "merged"
   ]
  },
  {
   "cell_type": "markdown",
   "id": "47d680d6",
   "metadata": {},
   "source": [
    "# Merged Train and test data"
   ]
  },
  {
   "cell_type": "code",
   "execution_count": 30,
   "id": "5bc82460",
   "metadata": {},
   "outputs": [],
   "source": [
    "data_list = [amd,asus,intel,msi,nvidia]\n",
    "\n",
    "for data in data_list:\n",
    "    data['Date'] = pd.to_datetime(data['Date'])"
   ]
  },
  {
   "cell_type": "code",
   "execution_count": 31,
   "id": "b7914bba",
   "metadata": {},
   "outputs": [],
   "source": [
    "data_list = [amd,asus,intel,msi,nvidia]\n",
    "\n",
    "# Below names list will be used to add a new 'Company' column to every dataset\n",
    "# 0: AMD\n",
    "# 1: ASUS\n",
    "# 2: INTEL\n",
    "# 3: MSI\n",
    "# 4: NVIDIA\n",
    "names = [0,1,2,3,4]\n",
    "index = 0\n",
    "for data in data_list:\n",
    "    dates = data['Date']\n",
    "    data['Company'] = np.repeat(names[index],len(data))\n",
    "    data['Year'] = dates.dt.year\n",
    "    data['Month'] = dates.dt.month\n",
    "    data['Day'] = dates.dt.day\n",
    "    index+=1"
   ]
  },
  {
   "cell_type": "code",
   "execution_count": 32,
   "id": "021ed65f",
   "metadata": {},
   "outputs": [
    {
     "name": "stdout",
     "output_type": "stream",
     "text": [
      "(2172, 11) (8687, 11)\n",
      "(1162, 11) (4647, 11)\n",
      "(2172, 11) (8687, 11)\n",
      "(3085, 11) (12339, 11)\n",
      "(1219, 11) (4875, 11)\n"
     ]
    }
   ],
   "source": [
    "data_list = [amd,asus,intel,msi,nvidia]\n",
    "test_data = []\n",
    "train_data = []\n",
    "for data in data_list:\n",
    "    train = data[:int(0.8*len(data))]\n",
    "    test = data[int(0.8*len(data)):]\n",
    "    train_data.append(train)\n",
    "    test_data.append(test)\n",
    "    print(test.shape,train.shape)"
   ]
  },
  {
   "cell_type": "code",
   "execution_count": 33,
   "id": "3908c270",
   "metadata": {},
   "outputs": [
    {
     "name": "stdout",
     "output_type": "stream",
     "text": [
      "(39235, 11)\n",
      "(9810, 11)\n"
     ]
    }
   ],
   "source": [
    "train_data = pd.concat(train_data)\n",
    "test_data = pd.concat(test_data)\n",
    "print(train_data.shape)\n",
    "print(test_data.shape)"
   ]
  },
  {
   "cell_type": "code",
   "execution_count": 34,
   "id": "65c9138b",
   "metadata": {},
   "outputs": [
    {
     "data": {
      "text/plain": [
       "Date         0\n",
       "Open         0\n",
       "High         0\n",
       "Low          0\n",
       "Close        0\n",
       "Adj Close    0\n",
       "Volume       0\n",
       "Company      0\n",
       "Year         0\n",
       "Month        0\n",
       "Day          0\n",
       "dtype: int64"
      ]
     },
     "execution_count": 34,
     "metadata": {},
     "output_type": "execute_result"
    }
   ],
   "source": [
    "train_data.isnull().sum()"
   ]
  },
  {
   "cell_type": "code",
   "execution_count": 35,
   "id": "7dc8bbac",
   "metadata": {},
   "outputs": [
    {
     "name": "stdout",
     "output_type": "stream",
     "text": [
      "(39235, 8)\n",
      "(9810, 8)\n",
      "(39235,)\n",
      "(9810,)\n"
     ]
    }
   ],
   "source": [
    "x_train = train_data[['Open', 'High', 'Low', 'Volume', 'Year','Month', 'Day','Company']]\n",
    "x_test = test_data[['Open', 'High', 'Low', 'Volume', 'Year','Month', 'Day','Company']]\n",
    "y_train = train_data['Close']\n",
    "y_test = test_data['Close']\n",
    "\n",
    "print(x_train.shape)\n",
    "print(x_test.shape)\n",
    "print(y_train.shape)\n",
    "print(y_test.shape)"
   ]
  },
  {
   "cell_type": "markdown",
   "id": "0a6eb1f6",
   "metadata": {},
   "source": [
    "# Saving Data"
   ]
  },
  {
   "cell_type": "code",
   "execution_count": 36,
   "id": "6941e1f7",
   "metadata": {},
   "outputs": [],
   "source": [
    "train_data.to_csv('Data/training.csv')"
   ]
  },
  {
   "cell_type": "code",
   "execution_count": 37,
   "id": "109e8c72",
   "metadata": {},
   "outputs": [],
   "source": [
    "x_train.to_csv('Data/x_train.csv')\n",
    "x_test.to_csv('Data/x_test.csv')\n",
    "y_train.to_csv('Data/y_train.csv')\n",
    "y_test.to_csv('Data/y_test.csv')"
   ]
  },
  {
   "cell_type": "markdown",
   "id": "2071a8d1",
   "metadata": {},
   "source": [
    "# DL"
   ]
  },
  {
   "cell_type": "code",
   "execution_count": 138,
   "id": "dcbf1b39",
   "metadata": {},
   "outputs": [],
   "source": [
    "from keras.models import Sequential # Deep learning library, used for neural networks\n",
    "from keras.layers import LSTM, Dense, Dropout # Deep learning classes for recurrent and regular densely-connected layers\n",
    "from keras.callbacks import EarlyStopping # EarlyStopping during model training"
   ]
  },
  {
   "cell_type": "code",
   "execution_count": 141,
   "id": "80852e44",
   "metadata": {
    "scrolled": true
   },
   "outputs": [
    {
     "ename": "InvalidIndexError",
     "evalue": "(slice(0, 50, None), slice(None, None, None))",
     "output_type": "error",
     "traceback": [
      "\u001b[1;31m---------------------------------------------------------------------------\u001b[0m",
      "\u001b[1;31mTypeError\u001b[0m                                 Traceback (most recent call last)",
      "File \u001b[1;32mC:\\ProgramData\\Anaconda3\\lib\\site-packages\\pandas\\core\\indexes\\base.py:3621\u001b[0m, in \u001b[0;36mIndex.get_loc\u001b[1;34m(self, key, method, tolerance)\u001b[0m\n\u001b[0;32m   3620\u001b[0m \u001b[38;5;28;01mtry\u001b[39;00m:\n\u001b[1;32m-> 3621\u001b[0m     \u001b[38;5;28;01mreturn\u001b[39;00m \u001b[38;5;28;43mself\u001b[39;49m\u001b[38;5;241;43m.\u001b[39;49m\u001b[43m_engine\u001b[49m\u001b[38;5;241;43m.\u001b[39;49m\u001b[43mget_loc\u001b[49m\u001b[43m(\u001b[49m\u001b[43mcasted_key\u001b[49m\u001b[43m)\u001b[49m\n\u001b[0;32m   3622\u001b[0m \u001b[38;5;28;01mexcept\u001b[39;00m \u001b[38;5;167;01mKeyError\u001b[39;00m \u001b[38;5;28;01mas\u001b[39;00m err:\n",
      "File \u001b[1;32mC:\\ProgramData\\Anaconda3\\lib\\site-packages\\pandas\\_libs\\index.pyx:136\u001b[0m, in \u001b[0;36mpandas._libs.index.IndexEngine.get_loc\u001b[1;34m()\u001b[0m\n",
      "File \u001b[1;32mC:\\ProgramData\\Anaconda3\\lib\\site-packages\\pandas\\_libs\\index.pyx:142\u001b[0m, in \u001b[0;36mpandas._libs.index.IndexEngine.get_loc\u001b[1;34m()\u001b[0m\n",
      "\u001b[1;31mTypeError\u001b[0m: '(slice(0, 50, None), slice(None, None, None))' is an invalid key",
      "\nDuring handling of the above exception, another exception occurred:\n",
      "\u001b[1;31mInvalidIndexError\u001b[0m                         Traceback (most recent call last)",
      "Input \u001b[1;32mIn [141]\u001b[0m, in \u001b[0;36m<cell line: 33>\u001b[1;34m()\u001b[0m\n\u001b[0;32m     30\u001b[0m     \u001b[38;5;28;01mreturn\u001b[39;00m x, y\n\u001b[0;32m     32\u001b[0m \u001b[38;5;66;03m# Generate training data and test data\u001b[39;00m\n\u001b[1;32m---> 33\u001b[0m x_train, y_train \u001b[38;5;241m=\u001b[39m \u001b[43mpartition_dataset\u001b[49m\u001b[43m(\u001b[49m\u001b[43minput_sequence_length\u001b[49m\u001b[43m,\u001b[49m\u001b[43m \u001b[49m\u001b[43moutput_sequence_length\u001b[49m\u001b[43m,\u001b[49m\u001b[43m \u001b[49m\u001b[43mtrain_data\u001b[49m\u001b[43m)\u001b[49m\n\u001b[0;32m     34\u001b[0m x_test, y_test \u001b[38;5;241m=\u001b[39m partition_dataset(input_sequence_length, output_sequence_length, test_data)\n\u001b[0;32m     36\u001b[0m \u001b[38;5;66;03m# Print the shapes: the result is: (rows, training_sequence, features) (prediction value, )\u001b[39;00m\n",
      "Input \u001b[1;32mIn [141]\u001b[0m, in \u001b[0;36mpartition_dataset\u001b[1;34m(input_sequence_length, output_sequence_length, data)\u001b[0m\n\u001b[0;32m     22\u001b[0m data_len \u001b[38;5;241m=\u001b[39m data\u001b[38;5;241m.\u001b[39mshape[\u001b[38;5;241m0\u001b[39m]\n\u001b[0;32m     23\u001b[0m \u001b[38;5;28;01mfor\u001b[39;00m i \u001b[38;5;129;01min\u001b[39;00m \u001b[38;5;28mrange\u001b[39m(input_sequence_length, data_len \u001b[38;5;241m-\u001b[39m output_sequence_length):\n\u001b[1;32m---> 24\u001b[0m     x\u001b[38;5;241m.\u001b[39mappend(\u001b[43mdata\u001b[49m\u001b[43m[\u001b[49m\u001b[43mi\u001b[49m\u001b[38;5;241;43m-\u001b[39;49m\u001b[43minput_sequence_length\u001b[49m\u001b[43m:\u001b[49m\u001b[43mi\u001b[49m\u001b[43m,\u001b[49m\u001b[43m:\u001b[49m\u001b[43m]\u001b[49m) \u001b[38;5;66;03m#contains input_sequence_length values 0-input_sequence_length * columns\u001b[39;00m\n\u001b[0;32m     25\u001b[0m     y\u001b[38;5;241m.\u001b[39mappend(data[i:i \u001b[38;5;241m+\u001b[39m output_sequence_length, index_Close]) \u001b[38;5;66;03m#contains the prediction values for validation (3rd column = Close),  for single-step prediction\u001b[39;00m\n\u001b[0;32m     27\u001b[0m \u001b[38;5;66;03m# Convert the x and y to numpy arrays\u001b[39;00m\n",
      "File \u001b[1;32mC:\\ProgramData\\Anaconda3\\lib\\site-packages\\pandas\\core\\frame.py:3505\u001b[0m, in \u001b[0;36mDataFrame.__getitem__\u001b[1;34m(self, key)\u001b[0m\n\u001b[0;32m   3503\u001b[0m \u001b[38;5;28;01mif\u001b[39;00m \u001b[38;5;28mself\u001b[39m\u001b[38;5;241m.\u001b[39mcolumns\u001b[38;5;241m.\u001b[39mnlevels \u001b[38;5;241m>\u001b[39m \u001b[38;5;241m1\u001b[39m:\n\u001b[0;32m   3504\u001b[0m     \u001b[38;5;28;01mreturn\u001b[39;00m \u001b[38;5;28mself\u001b[39m\u001b[38;5;241m.\u001b[39m_getitem_multilevel(key)\n\u001b[1;32m-> 3505\u001b[0m indexer \u001b[38;5;241m=\u001b[39m \u001b[38;5;28;43mself\u001b[39;49m\u001b[38;5;241;43m.\u001b[39;49m\u001b[43mcolumns\u001b[49m\u001b[38;5;241;43m.\u001b[39;49m\u001b[43mget_loc\u001b[49m\u001b[43m(\u001b[49m\u001b[43mkey\u001b[49m\u001b[43m)\u001b[49m\n\u001b[0;32m   3506\u001b[0m \u001b[38;5;28;01mif\u001b[39;00m is_integer(indexer):\n\u001b[0;32m   3507\u001b[0m     indexer \u001b[38;5;241m=\u001b[39m [indexer]\n",
      "File \u001b[1;32mC:\\ProgramData\\Anaconda3\\lib\\site-packages\\pandas\\core\\indexes\\base.py:3628\u001b[0m, in \u001b[0;36mIndex.get_loc\u001b[1;34m(self, key, method, tolerance)\u001b[0m\n\u001b[0;32m   3623\u001b[0m         \u001b[38;5;28;01mraise\u001b[39;00m \u001b[38;5;167;01mKeyError\u001b[39;00m(key) \u001b[38;5;28;01mfrom\u001b[39;00m \u001b[38;5;21;01merr\u001b[39;00m\n\u001b[0;32m   3624\u001b[0m     \u001b[38;5;28;01mexcept\u001b[39;00m \u001b[38;5;167;01mTypeError\u001b[39;00m:\n\u001b[0;32m   3625\u001b[0m         \u001b[38;5;66;03m# If we have a listlike key, _check_indexing_error will raise\u001b[39;00m\n\u001b[0;32m   3626\u001b[0m         \u001b[38;5;66;03m#  InvalidIndexError. Otherwise we fall through and re-raise\u001b[39;00m\n\u001b[0;32m   3627\u001b[0m         \u001b[38;5;66;03m#  the TypeError.\u001b[39;00m\n\u001b[1;32m-> 3628\u001b[0m         \u001b[38;5;28;43mself\u001b[39;49m\u001b[38;5;241;43m.\u001b[39;49m\u001b[43m_check_indexing_error\u001b[49m\u001b[43m(\u001b[49m\u001b[43mkey\u001b[49m\u001b[43m)\u001b[49m\n\u001b[0;32m   3629\u001b[0m         \u001b[38;5;28;01mraise\u001b[39;00m\n\u001b[0;32m   3631\u001b[0m \u001b[38;5;66;03m# GH#42269\u001b[39;00m\n",
      "File \u001b[1;32mC:\\ProgramData\\Anaconda3\\lib\\site-packages\\pandas\\core\\indexes\\base.py:5637\u001b[0m, in \u001b[0;36mIndex._check_indexing_error\u001b[1;34m(self, key)\u001b[0m\n\u001b[0;32m   5633\u001b[0m \u001b[38;5;28;01mdef\u001b[39;00m \u001b[38;5;21m_check_indexing_error\u001b[39m(\u001b[38;5;28mself\u001b[39m, key):\n\u001b[0;32m   5634\u001b[0m     \u001b[38;5;28;01mif\u001b[39;00m \u001b[38;5;129;01mnot\u001b[39;00m is_scalar(key):\n\u001b[0;32m   5635\u001b[0m         \u001b[38;5;66;03m# if key is not a scalar, directly raise an error (the code below\u001b[39;00m\n\u001b[0;32m   5636\u001b[0m         \u001b[38;5;66;03m# would convert to numpy arrays and raise later any way) - GH29926\u001b[39;00m\n\u001b[1;32m-> 5637\u001b[0m         \u001b[38;5;28;01mraise\u001b[39;00m InvalidIndexError(key)\n",
      "\u001b[1;31mInvalidIndexError\u001b[0m: (slice(0, 50, None), slice(None, None, None))"
     ]
    }
   ],
   "source": [
    "df_train = train_data\n",
    "# Set the input_sequence_length length - this is the timeframe used to make a single prediction\n",
    "input_sequence_length = 50\n",
    "# The output sequence length is the number of steps that the neural network predicts\n",
    "output_sequence_length = 10 #\n",
    "\n",
    "# Prediction Index\n",
    "index_Close = 4\n",
    "\n",
    "# Split the training data into train and train data sets\n",
    "# As a first step, we get the number of rows to train the model on 80% of the data \n",
    "train_data_length = math.ceil(np_scaled.shape[0] * 0.8)\n",
    "\n",
    "# Create the training and test data\n",
    "train_data = np_scaled[:train_data_length, :]\n",
    "test_data = np_scaled[train_data_length - input_sequence_length:, :]\n",
    "\n",
    "# The RNN needs data with the format of [samples, time steps, features]\n",
    "# Here, we create N samples, input_sequence_length time steps per sample, and f features\n",
    "def partition_dataset(input_sequence_length, output_sequence_length, data):\n",
    "    x, y = [], []\n",
    "    data_len = data.shape[0]\n",
    "    for i in range(input_sequence_length, data_len - output_sequence_length):\n",
    "        x.append(data[i-input_sequence_length:i,:]) #contains input_sequence_length values 0-input_sequence_length * columns\n",
    "        y.append(data[i:i + output_sequence_length, index_Close]) #contains the prediction values for validation (3rd column = Close),  for single-step prediction\n",
    "    \n",
    "    # Convert the x and y to numpy arrays\n",
    "    x = np.array(x)\n",
    "    y = np.array(y)\n",
    "    return x, y\n",
    "\n",
    "# Generate training data and test data\n",
    "x_train, y_train = partition_dataset(input_sequence_length, output_sequence_length, train_data)\n",
    "x_test, y_test = partition_dataset(input_sequence_length, output_sequence_length, test_data)\n",
    "\n",
    "# Print the shapes: the result is: (rows, training_sequence, features) (prediction value, )\n",
    "print(x_train.shape, y_train.shape)\n",
    "print(x_test.shape, y_test.shape)\n",
    "\n",
    "# Validate that the prediction value and the input match up\n",
    "# The last close price of the second input sample should equal the first prediction value\n",
    "nrows = 3 # number of shifted plots\n",
    "fig, ax = plt.subplots(nrows=nrows, ncols=1, figsize=(16, 8))\n",
    "for i, ax in enumerate(fig.axes):\n",
    "    xtrain = pd.DataFrame(x_train[i][:,index_Close], columns={f'x_train_{i}'})\n",
    "    ytrain = pd.DataFrame(y_train[i][:output_sequence_length-1], columns={f'y_train_{i}'})\n",
    "    ytrain.index = np.arange(input_sequence_length, input_sequence_length + output_sequence_length-1)\n",
    "    xtrain_ = pd.concat([xtrain, ytrain[:1].rename(columns={ytrain.columns[0]:xtrain.columns[0]})])\n",
    "    df_merge = pd.concat([xtrain_, ytrain])\n",
    "    sns.lineplot(data = df_merge, ax=ax)\n",
    "plt.show"
   ]
  },
  {
   "cell_type": "code",
   "execution_count": 139,
   "id": "2d25ab39",
   "metadata": {},
   "outputs": [
    {
     "ename": "IndexError",
     "evalue": "tuple index out of range",
     "output_type": "error",
     "traceback": [
      "\u001b[1;31m---------------------------------------------------------------------------\u001b[0m",
      "\u001b[1;31mIndexError\u001b[0m                                Traceback (most recent call last)",
      "Input \u001b[1;32mIn [139]\u001b[0m, in \u001b[0;36m<cell line: 11>\u001b[1;34m()\u001b[0m\n\u001b[0;32m      8\u001b[0m n_output_neurons \u001b[38;5;241m=\u001b[39m output_sequence_length\n\u001b[0;32m     10\u001b[0m \u001b[38;5;66;03m# Model with n_neurons = inputshape Timestamps, each with x_train.shape[2] variables\u001b[39;00m\n\u001b[1;32m---> 11\u001b[0m n_input_neurons \u001b[38;5;241m=\u001b[39m x_train\u001b[38;5;241m.\u001b[39mshape[\u001b[38;5;241m1\u001b[39m] \u001b[38;5;241m*\u001b[39m \u001b[43mx_train\u001b[49m\u001b[38;5;241;43m.\u001b[39;49m\u001b[43mshape\u001b[49m\u001b[43m[\u001b[49m\u001b[38;5;241;43m2\u001b[39;49m\u001b[43m]\u001b[49m\n\u001b[0;32m     12\u001b[0m \u001b[38;5;28mprint\u001b[39m(n_input_neurons, x_train\u001b[38;5;241m.\u001b[39mshape[\u001b[38;5;241m1\u001b[39m], x_train\u001b[38;5;241m.\u001b[39mshape[\u001b[38;5;241m2\u001b[39m])\n\u001b[0;32m     13\u001b[0m model\u001b[38;5;241m.\u001b[39madd(LSTM(n_input_neurons, return_sequences\u001b[38;5;241m=\u001b[39m\u001b[38;5;28;01mTrue\u001b[39;00m, input_shape\u001b[38;5;241m=\u001b[39m(x_train\u001b[38;5;241m.\u001b[39mshape[\u001b[38;5;241m1\u001b[39m], x_train\u001b[38;5;241m.\u001b[39mshape[\u001b[38;5;241m2\u001b[39m]))) \n",
      "\u001b[1;31mIndexError\u001b[0m: tuple index out of range"
     ]
    }
   ],
   "source": [
    "# Set the input_sequence_length length - this is the timeframe used to make a single prediction\n",
    "input_sequence_length = 50\n",
    "# The output sequence length is the number of steps that the neural network predicts\n",
    "output_sequence_length = 10\n",
    "\n",
    "# Configure the neural network model\n",
    "model = Sequential()\n",
    "n_output_neurons = output_sequence_length\n",
    "\n",
    "# Model with n_neurons = inputshape Timestamps, each with x_train.shape[2] variables\n",
    "n_input_neurons = x_train.shape[1] * x_train.shape[2]\n",
    "print(n_input_neurons, x_train.shape[1], x_train.shape[2])\n",
    "model.add(LSTM(n_input_neurons, return_sequences=True, input_shape=(x_train.shape[1], x_train.shape[2]))) \n",
    "model.add(LSTM(n_input_neurons, return_sequences=False))\n",
    "model.add(Dense(20))\n",
    "model.add(Dense(n_output_neurons))\n",
    "\n",
    "# Compile the model\n",
    "model.compile(optimizer='adam', loss='mse')"
   ]
  },
  {
   "cell_type": "code",
   "execution_count": 8,
   "id": "996c7523",
   "metadata": {},
   "outputs": [
    {
     "name": "stdout",
     "output_type": "stream",
     "text": [
      "Epoch 1/10\n",
      "540/540 [==============================] - 79s 134ms/step - loss: 6.5499e-04 - val_loss: 0.0083\n",
      "Epoch 2/10\n",
      "540/540 [==============================] - 72s 133ms/step - loss: 5.8657e-04 - val_loss: 0.0126\n",
      "Epoch 3/10\n",
      "540/540 [==============================] - 73s 136ms/step - loss: 5.7151e-04 - val_loss: 0.0144\n",
      "Epoch 4/10\n",
      "540/540 [==============================] - 74s 137ms/step - loss: 5.6143e-04 - val_loss: 0.0147\n",
      "Epoch 5/10\n",
      "540/540 [==============================] - 77s 142ms/step - loss: 5.6085e-04 - val_loss: 0.0166\n",
      "Epoch 6/10\n",
      "540/540 [==============================] - 76s 141ms/step - loss: 5.5632e-04 - val_loss: 0.0171\n",
      "Epoch 7/10\n",
      "540/540 [==============================] - 82s 151ms/step - loss: 5.5274e-04 - val_loss: 0.0210\n",
      "Epoch 8/10\n",
      "540/540 [==============================] - 82s 151ms/step - loss: 5.5159e-04 - val_loss: 0.0177\n",
      "Epoch 9/10\n",
      "540/540 [==============================] - 77s 143ms/step - loss: 5.4967e-04 - val_loss: 0.0158\n",
      "Epoch 10/10\n",
      "540/540 [==============================] - 79s 147ms/step - loss: 5.4963e-04 - val_loss: 0.0171\n"
     ]
    }
   ],
   "source": [
    "# Training the model\n",
    "epochs = 10\n",
    "batch_size = 16\n",
    "early_stop = EarlyStopping(monitor='loss', patience=5, verbose=1)\n",
    "history = model.fit(x_train, y_train, \n",
    "                    batch_size=batch_size, \n",
    "                    epochs=epochs,\n",
    "                    validation_data=(x_test, y_test)\n",
    "                   )\n",
    "                    \n",
    "                    #callbacks=[early_stop])"
   ]
  },
  {
   "cell_type": "code",
   "execution_count": null,
   "id": "0e624a40",
   "metadata": {},
   "outputs": [],
   "source": []
  },
  {
   "cell_type": "markdown",
   "id": "f2369cd2",
   "metadata": {},
   "source": [
    "# ML"
   ]
  },
  {
   "cell_type": "markdown",
   "id": "6c8565da",
   "metadata": {},
   "source": [
    "Decision Treee"
   ]
  },
  {
   "cell_type": "code",
   "execution_count": 38,
   "id": "90d7453a",
   "metadata": {},
   "outputs": [
    {
     "data": {
      "text/html": [
       "<style>#sk-container-id-1 {color: black;background-color: white;}#sk-container-id-1 pre{padding: 0;}#sk-container-id-1 div.sk-toggleable {background-color: white;}#sk-container-id-1 label.sk-toggleable__label {cursor: pointer;display: block;width: 100%;margin-bottom: 0;padding: 0.3em;box-sizing: border-box;text-align: center;}#sk-container-id-1 label.sk-toggleable__label-arrow:before {content: \"▸\";float: left;margin-right: 0.25em;color: #696969;}#sk-container-id-1 label.sk-toggleable__label-arrow:hover:before {color: black;}#sk-container-id-1 div.sk-estimator:hover label.sk-toggleable__label-arrow:before {color: black;}#sk-container-id-1 div.sk-toggleable__content {max-height: 0;max-width: 0;overflow: hidden;text-align: left;background-color: #f0f8ff;}#sk-container-id-1 div.sk-toggleable__content pre {margin: 0.2em;color: black;border-radius: 0.25em;background-color: #f0f8ff;}#sk-container-id-1 input.sk-toggleable__control:checked~div.sk-toggleable__content {max-height: 200px;max-width: 100%;overflow: auto;}#sk-container-id-1 input.sk-toggleable__control:checked~label.sk-toggleable__label-arrow:before {content: \"▾\";}#sk-container-id-1 div.sk-estimator input.sk-toggleable__control:checked~label.sk-toggleable__label {background-color: #d4ebff;}#sk-container-id-1 div.sk-label input.sk-toggleable__control:checked~label.sk-toggleable__label {background-color: #d4ebff;}#sk-container-id-1 input.sk-hidden--visually {border: 0;clip: rect(1px 1px 1px 1px);clip: rect(1px, 1px, 1px, 1px);height: 1px;margin: -1px;overflow: hidden;padding: 0;position: absolute;width: 1px;}#sk-container-id-1 div.sk-estimator {font-family: monospace;background-color: #f0f8ff;border: 1px dotted black;border-radius: 0.25em;box-sizing: border-box;margin-bottom: 0.5em;}#sk-container-id-1 div.sk-estimator:hover {background-color: #d4ebff;}#sk-container-id-1 div.sk-parallel-item::after {content: \"\";width: 100%;border-bottom: 1px solid gray;flex-grow: 1;}#sk-container-id-1 div.sk-label:hover label.sk-toggleable__label {background-color: #d4ebff;}#sk-container-id-1 div.sk-serial::before {content: \"\";position: absolute;border-left: 1px solid gray;box-sizing: border-box;top: 0;bottom: 0;left: 50%;z-index: 0;}#sk-container-id-1 div.sk-serial {display: flex;flex-direction: column;align-items: center;background-color: white;padding-right: 0.2em;padding-left: 0.2em;position: relative;}#sk-container-id-1 div.sk-item {position: relative;z-index: 1;}#sk-container-id-1 div.sk-parallel {display: flex;align-items: stretch;justify-content: center;background-color: white;position: relative;}#sk-container-id-1 div.sk-item::before, #sk-container-id-1 div.sk-parallel-item::before {content: \"\";position: absolute;border-left: 1px solid gray;box-sizing: border-box;top: 0;bottom: 0;left: 50%;z-index: -1;}#sk-container-id-1 div.sk-parallel-item {display: flex;flex-direction: column;z-index: 1;position: relative;background-color: white;}#sk-container-id-1 div.sk-parallel-item:first-child::after {align-self: flex-end;width: 50%;}#sk-container-id-1 div.sk-parallel-item:last-child::after {align-self: flex-start;width: 50%;}#sk-container-id-1 div.sk-parallel-item:only-child::after {width: 0;}#sk-container-id-1 div.sk-dashed-wrapped {border: 1px dashed gray;margin: 0 0.4em 0.5em 0.4em;box-sizing: border-box;padding-bottom: 0.4em;background-color: white;}#sk-container-id-1 div.sk-label label {font-family: monospace;font-weight: bold;display: inline-block;line-height: 1.2em;}#sk-container-id-1 div.sk-label-container {text-align: center;}#sk-container-id-1 div.sk-container {/* jupyter's `normalize.less` sets `[hidden] { display: none; }` but bootstrap.min.css set `[hidden] { display: none !important; }` so we also need the `!important` here to be able to override the default hidden behavior on the sphinx rendered scikit-learn.org. See: https://github.com/scikit-learn/scikit-learn/issues/21755 */display: inline-block !important;position: relative;}#sk-container-id-1 div.sk-text-repr-fallback {display: none;}</style><div id=\"sk-container-id-1\" class=\"sk-top-container\"><div class=\"sk-text-repr-fallback\"><pre>DecisionTreeRegressor()</pre><b>In a Jupyter environment, please rerun this cell to show the HTML representation or trust the notebook. <br />On GitHub, the HTML representation is unable to render, please try loading this page with nbviewer.org.</b></div><div class=\"sk-container\" hidden><div class=\"sk-item\"><div class=\"sk-estimator sk-toggleable\"><input class=\"sk-toggleable__control sk-hidden--visually\" id=\"sk-estimator-id-1\" type=\"checkbox\" checked><label for=\"sk-estimator-id-1\" class=\"sk-toggleable__label sk-toggleable__label-arrow\">DecisionTreeRegressor</label><div class=\"sk-toggleable__content\"><pre>DecisionTreeRegressor()</pre></div></div></div></div></div>"
      ],
      "text/plain": [
       "DecisionTreeRegressor()"
      ]
     },
     "execution_count": 38,
     "metadata": {},
     "output_type": "execute_result"
    }
   ],
   "source": [
    "dt = DecisionTreeRegressor()\n",
    "dt.fit(x_train,y_train)"
   ]
  },
  {
   "cell_type": "code",
   "execution_count": 39,
   "id": "09477e4d",
   "metadata": {},
   "outputs": [
    {
     "name": "stdout",
     "output_type": "stream",
     "text": [
      "Test score: 0.9995536298964616\n",
      "Train score: 1.0\n"
     ]
    }
   ],
   "source": [
    "print('Test score:',dt.score(x_test,y_test))\n",
    "print('Train score:',dt.score(x_train,y_train))"
   ]
  },
  {
   "cell_type": "code",
   "execution_count": 40,
   "id": "58f15d54",
   "metadata": {},
   "outputs": [
    {
     "name": "stdout",
     "output_type": "stream",
     "text": [
      "r2_score: 0.9995536298964616\n",
      "MAE: 1.0284022981651377\n"
     ]
    }
   ],
   "source": [
    "y_pred = dt.predict(x_test)\n",
    "print('r2_score:',r2_score(y_test,y_pred))\n",
    "print('MAE:',mean_absolute_error(y_test,y_pred))"
   ]
  },
  {
   "cell_type": "markdown",
   "id": "b1ed06da",
   "metadata": {},
   "source": [
    "Linear Regression "
   ]
  },
  {
   "cell_type": "code",
   "execution_count": 41,
   "id": "31fd1f5b",
   "metadata": {},
   "outputs": [
    {
     "data": {
      "text/html": [
       "<style>#sk-container-id-2 {color: black;background-color: white;}#sk-container-id-2 pre{padding: 0;}#sk-container-id-2 div.sk-toggleable {background-color: white;}#sk-container-id-2 label.sk-toggleable__label {cursor: pointer;display: block;width: 100%;margin-bottom: 0;padding: 0.3em;box-sizing: border-box;text-align: center;}#sk-container-id-2 label.sk-toggleable__label-arrow:before {content: \"▸\";float: left;margin-right: 0.25em;color: #696969;}#sk-container-id-2 label.sk-toggleable__label-arrow:hover:before {color: black;}#sk-container-id-2 div.sk-estimator:hover label.sk-toggleable__label-arrow:before {color: black;}#sk-container-id-2 div.sk-toggleable__content {max-height: 0;max-width: 0;overflow: hidden;text-align: left;background-color: #f0f8ff;}#sk-container-id-2 div.sk-toggleable__content pre {margin: 0.2em;color: black;border-radius: 0.25em;background-color: #f0f8ff;}#sk-container-id-2 input.sk-toggleable__control:checked~div.sk-toggleable__content {max-height: 200px;max-width: 100%;overflow: auto;}#sk-container-id-2 input.sk-toggleable__control:checked~label.sk-toggleable__label-arrow:before {content: \"▾\";}#sk-container-id-2 div.sk-estimator input.sk-toggleable__control:checked~label.sk-toggleable__label {background-color: #d4ebff;}#sk-container-id-2 div.sk-label input.sk-toggleable__control:checked~label.sk-toggleable__label {background-color: #d4ebff;}#sk-container-id-2 input.sk-hidden--visually {border: 0;clip: rect(1px 1px 1px 1px);clip: rect(1px, 1px, 1px, 1px);height: 1px;margin: -1px;overflow: hidden;padding: 0;position: absolute;width: 1px;}#sk-container-id-2 div.sk-estimator {font-family: monospace;background-color: #f0f8ff;border: 1px dotted black;border-radius: 0.25em;box-sizing: border-box;margin-bottom: 0.5em;}#sk-container-id-2 div.sk-estimator:hover {background-color: #d4ebff;}#sk-container-id-2 div.sk-parallel-item::after {content: \"\";width: 100%;border-bottom: 1px solid gray;flex-grow: 1;}#sk-container-id-2 div.sk-label:hover label.sk-toggleable__label {background-color: #d4ebff;}#sk-container-id-2 div.sk-serial::before {content: \"\";position: absolute;border-left: 1px solid gray;box-sizing: border-box;top: 0;bottom: 0;left: 50%;z-index: 0;}#sk-container-id-2 div.sk-serial {display: flex;flex-direction: column;align-items: center;background-color: white;padding-right: 0.2em;padding-left: 0.2em;position: relative;}#sk-container-id-2 div.sk-item {position: relative;z-index: 1;}#sk-container-id-2 div.sk-parallel {display: flex;align-items: stretch;justify-content: center;background-color: white;position: relative;}#sk-container-id-2 div.sk-item::before, #sk-container-id-2 div.sk-parallel-item::before {content: \"\";position: absolute;border-left: 1px solid gray;box-sizing: border-box;top: 0;bottom: 0;left: 50%;z-index: -1;}#sk-container-id-2 div.sk-parallel-item {display: flex;flex-direction: column;z-index: 1;position: relative;background-color: white;}#sk-container-id-2 div.sk-parallel-item:first-child::after {align-self: flex-end;width: 50%;}#sk-container-id-2 div.sk-parallel-item:last-child::after {align-self: flex-start;width: 50%;}#sk-container-id-2 div.sk-parallel-item:only-child::after {width: 0;}#sk-container-id-2 div.sk-dashed-wrapped {border: 1px dashed gray;margin: 0 0.4em 0.5em 0.4em;box-sizing: border-box;padding-bottom: 0.4em;background-color: white;}#sk-container-id-2 div.sk-label label {font-family: monospace;font-weight: bold;display: inline-block;line-height: 1.2em;}#sk-container-id-2 div.sk-label-container {text-align: center;}#sk-container-id-2 div.sk-container {/* jupyter's `normalize.less` sets `[hidden] { display: none; }` but bootstrap.min.css set `[hidden] { display: none !important; }` so we also need the `!important` here to be able to override the default hidden behavior on the sphinx rendered scikit-learn.org. See: https://github.com/scikit-learn/scikit-learn/issues/21755 */display: inline-block !important;position: relative;}#sk-container-id-2 div.sk-text-repr-fallback {display: none;}</style><div id=\"sk-container-id-2\" class=\"sk-top-container\"><div class=\"sk-text-repr-fallback\"><pre>LinearRegression()</pre><b>In a Jupyter environment, please rerun this cell to show the HTML representation or trust the notebook. <br />On GitHub, the HTML representation is unable to render, please try loading this page with nbviewer.org.</b></div><div class=\"sk-container\" hidden><div class=\"sk-item\"><div class=\"sk-estimator sk-toggleable\"><input class=\"sk-toggleable__control sk-hidden--visually\" id=\"sk-estimator-id-2\" type=\"checkbox\" checked><label for=\"sk-estimator-id-2\" class=\"sk-toggleable__label sk-toggleable__label-arrow\">LinearRegression</label><div class=\"sk-toggleable__content\"><pre>LinearRegression()</pre></div></div></div></div></div>"
      ],
      "text/plain": [
       "LinearRegression()"
      ]
     },
     "execution_count": 41,
     "metadata": {},
     "output_type": "execute_result"
    }
   ],
   "source": [
    "lr = LinearRegression()\n",
    "lr.fit(x_train,y_train)"
   ]
  },
  {
   "cell_type": "code",
   "execution_count": 42,
   "id": "2f428664",
   "metadata": {},
   "outputs": [
    {
     "name": "stdout",
     "output_type": "stream",
     "text": [
      "Test score: 0.9998405444198196\n",
      "Train score: 0.999895773053461\n"
     ]
    }
   ],
   "source": [
    "print('Test score:',lr.score(x_test,y_test))\n",
    "print('Train score:',lr.score(x_train,y_train))"
   ]
  },
  {
   "cell_type": "code",
   "execution_count": 43,
   "id": "101ceb0a",
   "metadata": {},
   "outputs": [
    {
     "name": "stdout",
     "output_type": "stream",
     "text": [
      "r2_score: 0.9998405444198196\n",
      "MAE: 0.681866693896915\n"
     ]
    }
   ],
   "source": [
    "y_pred = lr.predict(x_test)\n",
    "print('r2_score:',r2_score(y_test,y_pred))\n",
    "print('MAE:',mean_absolute_error(y_test,y_pred))"
   ]
  },
  {
   "cell_type": "markdown",
   "id": "bdc25138",
   "metadata": {},
   "source": [
    "Extra Trees Regression "
   ]
  },
  {
   "cell_type": "code",
   "execution_count": 44,
   "id": "12364672",
   "metadata": {},
   "outputs": [
    {
     "data": {
      "text/html": [
       "<style>#sk-container-id-3 {color: black;background-color: white;}#sk-container-id-3 pre{padding: 0;}#sk-container-id-3 div.sk-toggleable {background-color: white;}#sk-container-id-3 label.sk-toggleable__label {cursor: pointer;display: block;width: 100%;margin-bottom: 0;padding: 0.3em;box-sizing: border-box;text-align: center;}#sk-container-id-3 label.sk-toggleable__label-arrow:before {content: \"▸\";float: left;margin-right: 0.25em;color: #696969;}#sk-container-id-3 label.sk-toggleable__label-arrow:hover:before {color: black;}#sk-container-id-3 div.sk-estimator:hover label.sk-toggleable__label-arrow:before {color: black;}#sk-container-id-3 div.sk-toggleable__content {max-height: 0;max-width: 0;overflow: hidden;text-align: left;background-color: #f0f8ff;}#sk-container-id-3 div.sk-toggleable__content pre {margin: 0.2em;color: black;border-radius: 0.25em;background-color: #f0f8ff;}#sk-container-id-3 input.sk-toggleable__control:checked~div.sk-toggleable__content {max-height: 200px;max-width: 100%;overflow: auto;}#sk-container-id-3 input.sk-toggleable__control:checked~label.sk-toggleable__label-arrow:before {content: \"▾\";}#sk-container-id-3 div.sk-estimator input.sk-toggleable__control:checked~label.sk-toggleable__label {background-color: #d4ebff;}#sk-container-id-3 div.sk-label input.sk-toggleable__control:checked~label.sk-toggleable__label {background-color: #d4ebff;}#sk-container-id-3 input.sk-hidden--visually {border: 0;clip: rect(1px 1px 1px 1px);clip: rect(1px, 1px, 1px, 1px);height: 1px;margin: -1px;overflow: hidden;padding: 0;position: absolute;width: 1px;}#sk-container-id-3 div.sk-estimator {font-family: monospace;background-color: #f0f8ff;border: 1px dotted black;border-radius: 0.25em;box-sizing: border-box;margin-bottom: 0.5em;}#sk-container-id-3 div.sk-estimator:hover {background-color: #d4ebff;}#sk-container-id-3 div.sk-parallel-item::after {content: \"\";width: 100%;border-bottom: 1px solid gray;flex-grow: 1;}#sk-container-id-3 div.sk-label:hover label.sk-toggleable__label {background-color: #d4ebff;}#sk-container-id-3 div.sk-serial::before {content: \"\";position: absolute;border-left: 1px solid gray;box-sizing: border-box;top: 0;bottom: 0;left: 50%;z-index: 0;}#sk-container-id-3 div.sk-serial {display: flex;flex-direction: column;align-items: center;background-color: white;padding-right: 0.2em;padding-left: 0.2em;position: relative;}#sk-container-id-3 div.sk-item {position: relative;z-index: 1;}#sk-container-id-3 div.sk-parallel {display: flex;align-items: stretch;justify-content: center;background-color: white;position: relative;}#sk-container-id-3 div.sk-item::before, #sk-container-id-3 div.sk-parallel-item::before {content: \"\";position: absolute;border-left: 1px solid gray;box-sizing: border-box;top: 0;bottom: 0;left: 50%;z-index: -1;}#sk-container-id-3 div.sk-parallel-item {display: flex;flex-direction: column;z-index: 1;position: relative;background-color: white;}#sk-container-id-3 div.sk-parallel-item:first-child::after {align-self: flex-end;width: 50%;}#sk-container-id-3 div.sk-parallel-item:last-child::after {align-self: flex-start;width: 50%;}#sk-container-id-3 div.sk-parallel-item:only-child::after {width: 0;}#sk-container-id-3 div.sk-dashed-wrapped {border: 1px dashed gray;margin: 0 0.4em 0.5em 0.4em;box-sizing: border-box;padding-bottom: 0.4em;background-color: white;}#sk-container-id-3 div.sk-label label {font-family: monospace;font-weight: bold;display: inline-block;line-height: 1.2em;}#sk-container-id-3 div.sk-label-container {text-align: center;}#sk-container-id-3 div.sk-container {/* jupyter's `normalize.less` sets `[hidden] { display: none; }` but bootstrap.min.css set `[hidden] { display: none !important; }` so we also need the `!important` here to be able to override the default hidden behavior on the sphinx rendered scikit-learn.org. See: https://github.com/scikit-learn/scikit-learn/issues/21755 */display: inline-block !important;position: relative;}#sk-container-id-3 div.sk-text-repr-fallback {display: none;}</style><div id=\"sk-container-id-3\" class=\"sk-top-container\"><div class=\"sk-text-repr-fallback\"><pre>ExtraTreeRegressor()</pre><b>In a Jupyter environment, please rerun this cell to show the HTML representation or trust the notebook. <br />On GitHub, the HTML representation is unable to render, please try loading this page with nbviewer.org.</b></div><div class=\"sk-container\" hidden><div class=\"sk-item\"><div class=\"sk-estimator sk-toggleable\"><input class=\"sk-toggleable__control sk-hidden--visually\" id=\"sk-estimator-id-3\" type=\"checkbox\" checked><label for=\"sk-estimator-id-3\" class=\"sk-toggleable__label sk-toggleable__label-arrow\">ExtraTreeRegressor</label><div class=\"sk-toggleable__content\"><pre>ExtraTreeRegressor()</pre></div></div></div></div></div>"
      ],
      "text/plain": [
       "ExtraTreeRegressor()"
      ]
     },
     "execution_count": 44,
     "metadata": {},
     "output_type": "execute_result"
    }
   ],
   "source": [
    "etr = ExtraTreeRegressor()\n",
    "etr.fit(x_train,y_train)"
   ]
  },
  {
   "cell_type": "code",
   "execution_count": 45,
   "id": "be3759cd",
   "metadata": {},
   "outputs": [
    {
     "name": "stdout",
     "output_type": "stream",
     "text": [
      "Test score: 0.9994142211412407\n",
      "Train score: 1.0\n"
     ]
    }
   ],
   "source": [
    "print('Test score:',etr.score(x_test,y_test))\n",
    "print('Train score:',etr.score(x_train,y_train))"
   ]
  },
  {
   "cell_type": "code",
   "execution_count": 46,
   "id": "36b1abff",
   "metadata": {},
   "outputs": [
    {
     "name": "stdout",
     "output_type": "stream",
     "text": [
      "r2_score: 0.9994142211412407\n",
      "MAE: 1.1654668512742097\n"
     ]
    }
   ],
   "source": [
    "y_pred = etr.predict(x_test)\n",
    "print('r2_score:',r2_score(y_test,y_pred))\n",
    "print('MAE:',mean_absolute_error(y_test,y_pred))"
   ]
  },
  {
   "cell_type": "markdown",
   "id": "62e73e6e",
   "metadata": {},
   "source": [
    "Random Forest Regression"
   ]
  },
  {
   "cell_type": "code",
   "execution_count": 128,
   "id": "0d0faa3c",
   "metadata": {},
   "outputs": [
    {
     "data": {
      "text/html": [
       "<style>#sk-container-id-3 {color: black;background-color: white;}#sk-container-id-3 pre{padding: 0;}#sk-container-id-3 div.sk-toggleable {background-color: white;}#sk-container-id-3 label.sk-toggleable__label {cursor: pointer;display: block;width: 100%;margin-bottom: 0;padding: 0.3em;box-sizing: border-box;text-align: center;}#sk-container-id-3 label.sk-toggleable__label-arrow:before {content: \"▸\";float: left;margin-right: 0.25em;color: #696969;}#sk-container-id-3 label.sk-toggleable__label-arrow:hover:before {color: black;}#sk-container-id-3 div.sk-estimator:hover label.sk-toggleable__label-arrow:before {color: black;}#sk-container-id-3 div.sk-toggleable__content {max-height: 0;max-width: 0;overflow: hidden;text-align: left;background-color: #f0f8ff;}#sk-container-id-3 div.sk-toggleable__content pre {margin: 0.2em;color: black;border-radius: 0.25em;background-color: #f0f8ff;}#sk-container-id-3 input.sk-toggleable__control:checked~div.sk-toggleable__content {max-height: 200px;max-width: 100%;overflow: auto;}#sk-container-id-3 input.sk-toggleable__control:checked~label.sk-toggleable__label-arrow:before {content: \"▾\";}#sk-container-id-3 div.sk-estimator input.sk-toggleable__control:checked~label.sk-toggleable__label {background-color: #d4ebff;}#sk-container-id-3 div.sk-label input.sk-toggleable__control:checked~label.sk-toggleable__label {background-color: #d4ebff;}#sk-container-id-3 input.sk-hidden--visually {border: 0;clip: rect(1px 1px 1px 1px);clip: rect(1px, 1px, 1px, 1px);height: 1px;margin: -1px;overflow: hidden;padding: 0;position: absolute;width: 1px;}#sk-container-id-3 div.sk-estimator {font-family: monospace;background-color: #f0f8ff;border: 1px dotted black;border-radius: 0.25em;box-sizing: border-box;margin-bottom: 0.5em;}#sk-container-id-3 div.sk-estimator:hover {background-color: #d4ebff;}#sk-container-id-3 div.sk-parallel-item::after {content: \"\";width: 100%;border-bottom: 1px solid gray;flex-grow: 1;}#sk-container-id-3 div.sk-label:hover label.sk-toggleable__label {background-color: #d4ebff;}#sk-container-id-3 div.sk-serial::before {content: \"\";position: absolute;border-left: 1px solid gray;box-sizing: border-box;top: 0;bottom: 0;left: 50%;z-index: 0;}#sk-container-id-3 div.sk-serial {display: flex;flex-direction: column;align-items: center;background-color: white;padding-right: 0.2em;padding-left: 0.2em;position: relative;}#sk-container-id-3 div.sk-item {position: relative;z-index: 1;}#sk-container-id-3 div.sk-parallel {display: flex;align-items: stretch;justify-content: center;background-color: white;position: relative;}#sk-container-id-3 div.sk-item::before, #sk-container-id-3 div.sk-parallel-item::before {content: \"\";position: absolute;border-left: 1px solid gray;box-sizing: border-box;top: 0;bottom: 0;left: 50%;z-index: -1;}#sk-container-id-3 div.sk-parallel-item {display: flex;flex-direction: column;z-index: 1;position: relative;background-color: white;}#sk-container-id-3 div.sk-parallel-item:first-child::after {align-self: flex-end;width: 50%;}#sk-container-id-3 div.sk-parallel-item:last-child::after {align-self: flex-start;width: 50%;}#sk-container-id-3 div.sk-parallel-item:only-child::after {width: 0;}#sk-container-id-3 div.sk-dashed-wrapped {border: 1px dashed gray;margin: 0 0.4em 0.5em 0.4em;box-sizing: border-box;padding-bottom: 0.4em;background-color: white;}#sk-container-id-3 div.sk-label label {font-family: monospace;font-weight: bold;display: inline-block;line-height: 1.2em;}#sk-container-id-3 div.sk-label-container {text-align: center;}#sk-container-id-3 div.sk-container {/* jupyter's `normalize.less` sets `[hidden] { display: none; }` but bootstrap.min.css set `[hidden] { display: none !important; }` so we also need the `!important` here to be able to override the default hidden behavior on the sphinx rendered scikit-learn.org. See: https://github.com/scikit-learn/scikit-learn/issues/21755 */display: inline-block !important;position: relative;}#sk-container-id-3 div.sk-text-repr-fallback {display: none;}</style><div id=\"sk-container-id-3\" class=\"sk-top-container\"><div class=\"sk-text-repr-fallback\"><pre>RandomForestRegressor()</pre><b>In a Jupyter environment, please rerun this cell to show the HTML representation or trust the notebook. <br />On GitHub, the HTML representation is unable to render, please try loading this page with nbviewer.org.</b></div><div class=\"sk-container\" hidden><div class=\"sk-item\"><div class=\"sk-estimator sk-toggleable\"><input class=\"sk-toggleable__control sk-hidden--visually\" id=\"sk-estimator-id-3\" type=\"checkbox\" checked><label for=\"sk-estimator-id-3\" class=\"sk-toggleable__label sk-toggleable__label-arrow\">RandomForestRegressor</label><div class=\"sk-toggleable__content\"><pre>RandomForestRegressor()</pre></div></div></div></div></div>"
      ],
      "text/plain": [
       "RandomForestRegressor()"
      ]
     },
     "execution_count": 128,
     "metadata": {},
     "output_type": "execute_result"
    }
   ],
   "source": [
    "rf = RandomForestRegressor()\n",
    "rf.fit(x_train,y_train)"
   ]
  },
  {
   "cell_type": "code",
   "execution_count": 129,
   "id": "580f9c03",
   "metadata": {},
   "outputs": [
    {
     "name": "stdout",
     "output_type": "stream",
     "text": [
      "Test score: 0.9998013249033134\n",
      "Train score: 0.9999740655897109\n"
     ]
    }
   ],
   "source": [
    "print('Test score:',rf.score(x_test,y_test))\n",
    "print('Train score:',rf.score(x_train,y_train))"
   ]
  },
  {
   "cell_type": "code",
   "execution_count": 130,
   "id": "c992c8cd",
   "metadata": {},
   "outputs": [
    {
     "name": "stdout",
     "output_type": "stream",
     "text": [
      "r2_score: 0.9998013249033134\n",
      "MAE: 0.712384695570204\n"
     ]
    }
   ],
   "source": [
    "y_pred = rf.predict(x_test)\n",
    "print('r2_score:',r2_score(y_test,y_pred))\n",
    "print('MAE:',mean_absolute_error(y_test,y_pred))"
   ]
  },
  {
   "cell_type": "markdown",
   "id": "b927f12d",
   "metadata": {},
   "source": [
    "Plotting best model predictions"
   ]
  },
  {
   "cell_type": "code",
   "execution_count": 47,
   "id": "ffbf15f1",
   "metadata": {},
   "outputs": [],
   "source": [
    "amd_dates = test_data[test_data['Company']==0]['Date']\n",
    "amd_pred = lr.predict(x_test[x_test['Company']==0])\n",
    "amd_orig = test_data[test_data['Company']==0]['Close']\n",
    "\n",
    "asus_dates = test_data[test_data['Company']==1]['Date']\n",
    "asus_pred = lr.predict(x_test[x_test['Company']==1])\n",
    "asus_orig = test_data[test_data['Company']==1]['Close']\n",
    "\n",
    "intel_dates = test_data[test_data['Company']==2]['Date']\n",
    "intel_pred = lr.predict(x_test[x_test['Company']==2])\n",
    "intel_orig = test_data[test_data['Company']==2]['Close']\n",
    "\n",
    "msi_dates = test_data[test_data['Company']==3]['Date']\n",
    "msi_pred = lr.predict(x_test[x_test['Company']==3])\n",
    "msi_orig = test_data[test_data['Company']==3]['Close']\n",
    "\n",
    "nvidia_dates = test_data[test_data['Company']==4]['Date']\n",
    "nvidia_pred = lr.predict(x_test[x_test['Company']==4])\n",
    "nvidia_orig = test_data[test_data['Company']==4]['Close']"
   ]
  },
  {
   "cell_type": "code",
   "execution_count": 48,
   "id": "9814aeb7",
   "metadata": {
    "scrolled": false
   },
   "outputs": [
    {
     "data": {
      "image/png": "[encoded data removed]",
      "text/plain": [
       "<Figure size 1080x576 with 1 Axes>"
      ]
     },
     "metadata": {
      "needs_background": "light"
     },
     "output_type": "display_data"
    }
   ],
   "source": [
    "\n",
    "# Plot predictions and actual values\n",
    "plt.figure(figsize=(15,8))\n",
    "\n",
    "\n",
    "sns.lineplot(amd_dates,amd_orig)\n",
    "sns.lineplot(amd_dates,amd_pred)\n",
    "\n",
    "sns.lineplot(asus_dates,asus_orig)\n",
    "sns.lineplot(asus_dates,asus_pred)\n",
    "\n",
    "sns.lineplot(intel_dates,intel_orig)\n",
    "sns.lineplot(intel_dates,intel_pred)\n",
    "\n",
    "sns.lineplot(msi_dates,msi_orig)\n",
    "sns.lineplot(msi_dates,msi_pred)\n",
    "\n",
    "sns.lineplot(nvidia_dates,nvidia_orig)\n",
    "sns.lineplot(nvidia_dates,nvidia_pred)\n",
    "\n",
    "plt.legend(['AMD Original','AMD Predicted','ASUS Original','ASUS Predicted','INTEL Original',\n",
    "            'INTEL Predicted','MSI Original','MSI Predicted','NVIDIA Original','NVIDIA Predicted'])\n",
    "plt.show()"
   ]
  },
  {
   "cell_type": "code",
   "execution_count": 49,
   "id": "6f00c74c",
   "metadata": {},
   "outputs": [
    {
     "data": {
      "text/html": [
       "<div>\n",
       "<style scoped>\n",
       "    .dataframe tbody tr th:only-of-type {\n",
       "        vertical-align: middle;\n",
       "    }\n",
       "\n",
       "    .dataframe tbody tr th {\n",
       "        vertical-align: top;\n",
       "    }\n",
       "\n",
       "    .dataframe thead th {\n",
       "        text-align: right;\n",
       "    }\n",
       "</style>\n",
       "<table border=\"1\" class=\"dataframe\">\n",
       "  <thead>\n",
       "    <tr style=\"text-align: right;\">\n",
       "      <th></th>\n",
       "      <th>Date</th>\n",
       "      <th>Open</th>\n",
       "      <th>High</th>\n",
       "      <th>Low</th>\n",
       "      <th>Close</th>\n",
       "      <th>Adj Close</th>\n",
       "      <th>Volume</th>\n",
       "      <th>Company</th>\n",
       "      <th>Year</th>\n",
       "      <th>Month</th>\n",
       "      <th>Day</th>\n",
       "    </tr>\n",
       "  </thead>\n",
       "  <tbody>\n",
       "    <tr>\n",
       "      <th>8687</th>\n",
       "      <td>2014-08-26</td>\n",
       "      <td>4.170000</td>\n",
       "      <td>4.220000</td>\n",
       "      <td>4.130000</td>\n",
       "      <td>4.190000</td>\n",
       "      <td>4.190000</td>\n",
       "      <td>9183900.0</td>\n",
       "      <td>0</td>\n",
       "      <td>2014</td>\n",
       "      <td>8</td>\n",
       "      <td>26</td>\n",
       "    </tr>\n",
       "    <tr>\n",
       "      <th>8688</th>\n",
       "      <td>2014-08-27</td>\n",
       "      <td>4.200000</td>\n",
       "      <td>4.210000</td>\n",
       "      <td>4.150000</td>\n",
       "      <td>4.160000</td>\n",
       "      <td>4.160000</td>\n",
       "      <td>7304400.0</td>\n",
       "      <td>0</td>\n",
       "      <td>2014</td>\n",
       "      <td>8</td>\n",
       "      <td>27</td>\n",
       "    </tr>\n",
       "    <tr>\n",
       "      <th>8689</th>\n",
       "      <td>2014-08-28</td>\n",
       "      <td>4.140000</td>\n",
       "      <td>4.190000</td>\n",
       "      <td>4.070000</td>\n",
       "      <td>4.140000</td>\n",
       "      <td>4.140000</td>\n",
       "      <td>10331400.0</td>\n",
       "      <td>0</td>\n",
       "      <td>2014</td>\n",
       "      <td>8</td>\n",
       "      <td>28</td>\n",
       "    </tr>\n",
       "    <tr>\n",
       "      <th>8690</th>\n",
       "      <td>2014-08-29</td>\n",
       "      <td>4.150000</td>\n",
       "      <td>4.190000</td>\n",
       "      <td>4.140000</td>\n",
       "      <td>4.170000</td>\n",
       "      <td>4.170000</td>\n",
       "      <td>7347200.0</td>\n",
       "      <td>0</td>\n",
       "      <td>2014</td>\n",
       "      <td>8</td>\n",
       "      <td>29</td>\n",
       "    </tr>\n",
       "    <tr>\n",
       "      <th>8691</th>\n",
       "      <td>2014-09-02</td>\n",
       "      <td>4.160000</td>\n",
       "      <td>4.250000</td>\n",
       "      <td>4.150000</td>\n",
       "      <td>4.160000</td>\n",
       "      <td>4.160000</td>\n",
       "      <td>12603300.0</td>\n",
       "      <td>0</td>\n",
       "      <td>2014</td>\n",
       "      <td>9</td>\n",
       "      <td>2</td>\n",
       "    </tr>\n",
       "    <tr>\n",
       "      <th>...</th>\n",
       "      <td>...</td>\n",
       "      <td>...</td>\n",
       "      <td>...</td>\n",
       "      <td>...</td>\n",
       "      <td>...</td>\n",
       "      <td>...</td>\n",
       "      <td>...</td>\n",
       "      <td>...</td>\n",
       "      <td>...</td>\n",
       "      <td>...</td>\n",
       "      <td>...</td>\n",
       "    </tr>\n",
       "    <tr>\n",
       "      <th>6089</th>\n",
       "      <td>2023-04-05</td>\n",
       "      <td>268.290009</td>\n",
       "      <td>269.980011</td>\n",
       "      <td>263.950012</td>\n",
       "      <td>268.809998</td>\n",
       "      <td>268.809998</td>\n",
       "      <td>51501500.0</td>\n",
       "      <td>4</td>\n",
       "      <td>2023</td>\n",
       "      <td>4</td>\n",
       "      <td>5</td>\n",
       "    </tr>\n",
       "    <tr>\n",
       "      <th>6090</th>\n",
       "      <td>2023-04-06</td>\n",
       "      <td>265.839996</td>\n",
       "      <td>270.799988</td>\n",
       "      <td>264.269989</td>\n",
       "      <td>270.369995</td>\n",
       "      <td>270.369995</td>\n",
       "      <td>39765400.0</td>\n",
       "      <td>4</td>\n",
       "      <td>2023</td>\n",
       "      <td>4</td>\n",
       "      <td>6</td>\n",
       "    </tr>\n",
       "    <tr>\n",
       "      <th>6091</th>\n",
       "      <td>2023-04-10</td>\n",
       "      <td>268.230011</td>\n",
       "      <td>276.209991</td>\n",
       "      <td>266.690002</td>\n",
       "      <td>275.790009</td>\n",
       "      <td>275.790009</td>\n",
       "      <td>39527900.0</td>\n",
       "      <td>4</td>\n",
       "      <td>2023</td>\n",
       "      <td>4</td>\n",
       "      <td>10</td>\n",
       "    </tr>\n",
       "    <tr>\n",
       "      <th>6092</th>\n",
       "      <td>2023-04-11</td>\n",
       "      <td>277.239990</td>\n",
       "      <td>277.899994</td>\n",
       "      <td>271.260010</td>\n",
       "      <td>271.690002</td>\n",
       "      <td>271.690002</td>\n",
       "      <td>31437800.0</td>\n",
       "      <td>4</td>\n",
       "      <td>2023</td>\n",
       "      <td>4</td>\n",
       "      <td>11</td>\n",
       "    </tr>\n",
       "    <tr>\n",
       "      <th>6093</th>\n",
       "      <td>2023-04-12</td>\n",
       "      <td>273.700012</td>\n",
       "      <td>274.679993</td>\n",
       "      <td>264.480011</td>\n",
       "      <td>264.950012</td>\n",
       "      <td>264.950012</td>\n",
       "      <td>44529900.0</td>\n",
       "      <td>4</td>\n",
       "      <td>2023</td>\n",
       "      <td>4</td>\n",
       "      <td>12</td>\n",
       "    </tr>\n",
       "  </tbody>\n",
       "</table>\n",
       "<p>9810 rows × 11 columns</p>\n",
       "</div>"
      ],
      "text/plain": [
       "           Date        Open        High         Low       Close   Adj Close  \\\n",
       "8687 2014-08-26    4.170000    4.220000    4.130000    4.190000    4.190000   \n",
       "8688 2014-08-27    4.200000    4.210000    4.150000    4.160000    4.160000   \n",
       "8689 2014-08-28    4.140000    4.190000    4.070000    4.140000    4.140000   \n",
       "8690 2014-08-29    4.150000    4.190000    4.140000    4.170000    4.170000   \n",
       "8691 2014-09-02    4.160000    4.250000    4.150000    4.160000    4.160000   \n",
       "...         ...         ...         ...         ...         ...         ...   \n",
       "6089 2023-04-05  268.290009  269.980011  263.950012  268.809998  268.809998   \n",
       "6090 2023-04-06  265.839996  270.799988  264.269989  270.369995  270.369995   \n",
       "6091 2023-04-10  268.230011  276.209991  266.690002  275.790009  275.790009   \n",
       "6092 2023-04-11  277.239990  277.899994  271.260010  271.690002  271.690002   \n",
       "6093 2023-04-12  273.700012  274.679993  264.480011  264.950012  264.950012   \n",
       "\n",
       "          Volume  Company  Year  Month  Day  \n",
       "8687   9183900.0        0  2014      8   26  \n",
       "8688   7304400.0        0  2014      8   27  \n",
       "8689  10331400.0        0  2014      8   28  \n",
       "8690   7347200.0        0  2014      8   29  \n",
       "8691  12603300.0        0  2014      9    2  \n",
       "...          ...      ...   ...    ...  ...  \n",
       "6089  51501500.0        4  2023      4    5  \n",
       "6090  39765400.0        4  2023      4    6  \n",
       "6091  39527900.0        4  2023      4   10  \n",
       "6092  31437800.0        4  2023      4   11  \n",
       "6093  44529900.0        4  2023      4   12  \n",
       "\n",
       "[9810 rows x 11 columns]"
      ]
     },
     "execution_count": 49,
     "metadata": {},
     "output_type": "execute_result"
    }
   ],
   "source": [
    "test_data"
   ]
  },
  {
   "cell_type": "code",
   "execution_count": 55,
   "id": "cd81dd57",
   "metadata": {},
   "outputs": [
    {
     "data": {
      "text/plain": [
       "array([[4.08000e+00, 4.11000e+00, 4.01000e+00, 1.32768e+07, 2.01400e+03,\n",
       "        9.00000e+00, 1.00000e+01, 0.00000e+00]])"
      ]
     },
     "execution_count": 55,
     "metadata": {},
     "output_type": "execute_result"
    }
   ],
   "source": [
    "x_test.values[10].reshape(1,-1)"
   ]
  },
  {
   "cell_type": "code",
   "execution_count": 56,
   "id": "26d7b450",
   "metadata": {},
   "outputs": [
    {
     "data": {
      "text/plain": [
       "Index(['Open', 'High', 'Low', 'Volume', 'Year', 'Month', 'Day', 'Company'], dtype='object')"
      ]
     },
     "execution_count": 56,
     "metadata": {},
     "output_type": "execute_result"
    }
   ],
   "source": [
    "x_test.columns"
   ]
  },
  {
   "cell_type": "code",
   "execution_count": 51,
   "id": "78c3a6ea",
   "metadata": {},
   "outputs": [
    {
     "name": "stdout",
     "output_type": "stream",
     "text": [
      "prediction: [4.33007714]\n",
      "actual value: 4.08\n"
     ]
    }
   ],
   "source": [
    "actual = test_data.iloc[10,4]\n",
    "print('prediction:',lr.predict(x_test.values[10].reshape(1,-1)))\n",
    "print('actual value:',actual)"
   ]
  },
  {
   "cell_type": "markdown",
   "id": "4fb8c782",
   "metadata": {},
   "source": [
    "# Saving Model"
   ]
  },
  {
   "cell_type": "code",
   "execution_count": 52,
   "id": "75928c84",
   "metadata": {},
   "outputs": [],
   "source": [
    "import pickle as pkl"
   ]
  },
  {
   "cell_type": "code",
   "execution_count": 53,
   "id": "c82c51d8",
   "metadata": {},
   "outputs": [],
   "source": [
    "pkl.dump(lr,open('lr.pkl','wb'))"
   ]
  },
  {
   "cell_type": "markdown",
   "id": "0f443f9f",
   "metadata": {},
   "source": [
    "# Flask"
   ]
  },
  {
   "cell_type": "code",
   "execution_count": null,
   "id": "b09dc172",
   "metadata": {},
   "outputs": [],
   "source": []
  }
 ],
 "metadata": {
  "kernelspec": {
   "display_name": "Python 3 (ipykernel)",
   "language": "python",
   "name": "python3"
  },
  "language_info": {
   "codemirror_mode": {
    "name": "ipython",
    "version": 3
   },
   "file_extension": ".py",
   "mimetype": "text/x-python",
   "name": "python",
   "nbconvert_exporter": "python",
   "pygments_lexer": "ipython3",
   "version": "3.9.12"
  }
 },
 "nbformat": 4,
 "nbformat_minor": 5
}
